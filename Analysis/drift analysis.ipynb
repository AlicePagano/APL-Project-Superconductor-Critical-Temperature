{
 "cells": [
  {
   "cell_type": "code",
   "execution_count": 1,
   "metadata": {
    "ExecuteTime": {
     "end_time": "2020-12-11T15:34:06.737427Z",
     "start_time": "2020-12-11T15:33:58.987144Z"
    }
   },
   "outputs": [
    {
     "name": "stdout",
     "output_type": "stream",
     "text": [
      "Welcome to JupyROOT 6.22/02\n"
     ]
    },
    {
     "name": "stderr",
     "output_type": "stream",
     "text": [
      "<ipython-input-1-7ea47b760f4e>:16: MatplotlibDeprecationWarning: Support for setting the 'text.latex.preamble' or 'pgf.preamble' rcParam to a list of strings is deprecated since 3.3 and will be removed two minor releases later; set it to a single string instead.\n",
      "  plt.rcParams['text.latex.preamble'] = [r'\\boldmath']\n"
     ]
    }
   ],
   "source": [
    "# Load needed packages\n",
    "import numpy as np\n",
    "import os\n",
    "from datetime import datetime\n",
    "import pandas as pd\n",
    "import matplotlib.pyplot as plt\n",
    "import bokeh.palettes as palette # For palette of colors\n",
    "import math\n",
    "from scipy import stats\n",
    "from matplotlib import rc\n",
    "import ROOT \n",
    "\n",
    "# Latex rendering for plotting\n",
    "plt.rc('text', usetex=True)\n",
    "plt.rc('font', family='serif')\n",
    "plt.rcParams['text.latex.preamble'] = [r'\\boldmath']\n",
    "\n",
    "# Define color palette\n",
    "col = palette.brewer['RdYlBu'][10] #(8)\n",
    "\n",
    "# Convert HTML color code to RGB\n",
    "from PIL import ImageColor\n",
    "ImageColor.getcolor(col[9], \"RGB\")\n",
    "\n",
    "# Define folder to save plots\n",
    "dir_name = './plots_drift'\n",
    "if not os.path.isdir(dir_name):\n",
    "    os.mkdir(dir_name)"
   ]
  },
  {
   "cell_type": "markdown",
   "metadata": {},
   "source": [
    "## Load dataset (conversion+data)"
   ]
  },
  {
   "cell_type": "code",
   "execution_count": 2,
   "metadata": {
    "ExecuteTime": {
     "end_time": "2020-12-11T15:34:06.892205Z",
     "start_time": "2020-12-11T15:34:06.743160Z"
    }
   },
   "outputs": [
    {
     "name": "stdout",
     "output_type": "stream",
     "text": [
      "R1: 11980.0 +- 62.24990602670283\n",
      "R2: 12000.0 +- 62.3538290751525\n"
     ]
    }
   ],
   "source": [
    "# LOAD CONVERSION DATASET \n",
    "\n",
    "path_conv = 'Data/conversion.dat'\n",
    "col_name = ['T','R/R0','rel_error']\n",
    "df_conv = pd.read_csv(path_conv, sep=\"\\t\", header=None, names=col_name,skiprows=2)\n",
    "\n",
    "\n",
    "# LOAD DRIFT DATASET\n",
    "\n",
    "path_co = 'Data/cooling_new.dat'\n",
    "path_he = 'Data/heating.dat'\n",
    "col_name = ['ID','Tcf','Rv','Vout']\n",
    "df_co = pd.read_csv(path_co, sep=\"\\t\", header=None, names=col_name,skiprows=4)\n",
    "df_he = pd.read_csv(path_he, sep=\"\\t\", header=None, names=col_name,skiprows=4)\n",
    "\n",
    "\n",
    "# BRIDGE RESISTANCES WITH ERRORS \n",
    "\n",
    "R1 = 11.98*10**3 # K Ohm\n",
    "err_R1 = 1/np.sqrt(3)*np.sqrt( (0.009*R1)**2 + 0.001**2 )\n",
    "R2 = 12.00*10**3 # K Ohm\n",
    "err_R2 = 1/np.sqrt(3)*np.sqrt( (0.009*R2)**2 + 0.001**2 )\n",
    "\n",
    "print('R1:', R1,'+-',err_R1)\n",
    "print('R2:', R2,'+-',err_R2)"
   ]
  },
  {
   "cell_type": "code",
   "execution_count": 3,
   "metadata": {
    "ExecuteTime": {
     "end_time": "2020-12-11T15:34:07.095604Z",
     "start_time": "2020-12-11T15:34:06.898955Z"
    }
   },
   "outputs": [
    {
     "data": {
      "text/html": [
       "<div>\n",
       "<style scoped>\n",
       "    .dataframe tbody tr th:only-of-type {\n",
       "        vertical-align: middle;\n",
       "    }\n",
       "\n",
       "    .dataframe tbody tr th {\n",
       "        vertical-align: top;\n",
       "    }\n",
       "\n",
       "    .dataframe thead th {\n",
       "        text-align: right;\n",
       "    }\n",
       "</style>\n",
       "<table border=\"1\" class=\"dataframe\">\n",
       "  <thead>\n",
       "    <tr style=\"text-align: right;\">\n",
       "      <th></th>\n",
       "      <th>ID</th>\n",
       "      <th>Tcf</th>\n",
       "      <th>Rv</th>\n",
       "      <th>Vout</th>\n",
       "      <th>err_Rv</th>\n",
       "      <th>err_Vout</th>\n",
       "      <th>RT</th>\n",
       "      <th>err_RT</th>\n",
       "      <th>rel_err_RT</th>\n",
       "    </tr>\n",
       "  </thead>\n",
       "  <tbody>\n",
       "    <tr>\n",
       "      <th>count</th>\n",
       "      <td>30.000000</td>\n",
       "      <td>29.000000</td>\n",
       "      <td>30.000000</td>\n",
       "      <td>30.000000</td>\n",
       "      <td>3.000000e+01</td>\n",
       "      <td>30.000000</td>\n",
       "      <td>30.000000</td>\n",
       "      <td>30.000000</td>\n",
       "      <td>30.000000</td>\n",
       "    </tr>\n",
       "    <tr>\n",
       "      <th>mean</th>\n",
       "      <td>1214.400000</td>\n",
       "      <td>111.642814</td>\n",
       "      <td>32.823333</td>\n",
       "      <td>406.123333</td>\n",
       "      <td>5.773503e-02</td>\n",
       "      <td>0.370198</td>\n",
       "      <td>32.878130</td>\n",
       "      <td>0.248650</td>\n",
       "      <td>0.007578</td>\n",
       "    </tr>\n",
       "    <tr>\n",
       "      <th>std</th>\n",
       "      <td>606.843308</td>\n",
       "      <td>17.247564</td>\n",
       "      <td>6.103288</td>\n",
       "      <td>12.552282</td>\n",
       "      <td>2.117255e-17</td>\n",
       "      <td>0.010315</td>\n",
       "      <td>6.113477</td>\n",
       "      <td>0.043644</td>\n",
       "      <td>0.000089</td>\n",
       "    </tr>\n",
       "    <tr>\n",
       "      <th>min</th>\n",
       "      <td>185.000000</td>\n",
       "      <td>76.710000</td>\n",
       "      <td>22.000000</td>\n",
       "      <td>374.000000</td>\n",
       "      <td>5.773503e-02</td>\n",
       "      <td>0.343861</td>\n",
       "      <td>22.036728</td>\n",
       "      <td>0.171953</td>\n",
       "      <td>0.007460</td>\n",
       "    </tr>\n",
       "    <tr>\n",
       "      <th>25%</th>\n",
       "      <td>842.500000</td>\n",
       "      <td>102.203000</td>\n",
       "      <td>29.125000</td>\n",
       "      <td>400.000000</td>\n",
       "      <td>5.773503e-02</td>\n",
       "      <td>0.365148</td>\n",
       "      <td>29.173623</td>\n",
       "      <td>0.222045</td>\n",
       "      <td>0.007515</td>\n",
       "    </tr>\n",
       "    <tr>\n",
       "      <th>50%</th>\n",
       "      <td>1130.500000</td>\n",
       "      <td>111.470000</td>\n",
       "      <td>32.250000</td>\n",
       "      <td>407.500000</td>\n",
       "      <td>5.773503e-02</td>\n",
       "      <td>0.371316</td>\n",
       "      <td>32.303840</td>\n",
       "      <td>0.244327</td>\n",
       "      <td>0.007563</td>\n",
       "    </tr>\n",
       "    <tr>\n",
       "      <th>75%</th>\n",
       "      <td>1585.000000</td>\n",
       "      <td>122.740000</td>\n",
       "      <td>36.750000</td>\n",
       "      <td>414.750000</td>\n",
       "      <td>5.773503e-02</td>\n",
       "      <td>0.377288</td>\n",
       "      <td>36.811352</td>\n",
       "      <td>0.276621</td>\n",
       "      <td>0.007611</td>\n",
       "    </tr>\n",
       "    <tr>\n",
       "      <th>max</th>\n",
       "      <td>2498.000000</td>\n",
       "      <td>144.194000</td>\n",
       "      <td>45.000000</td>\n",
       "      <td>424.000000</td>\n",
       "      <td>5.773503e-02</td>\n",
       "      <td>0.384923</td>\n",
       "      <td>45.075125</td>\n",
       "      <td>0.336244</td>\n",
       "      <td>0.007803</td>\n",
       "    </tr>\n",
       "  </tbody>\n",
       "</table>\n",
       "</div>"
      ],
      "text/plain": [
       "                ID         Tcf         Rv        Vout        err_Rv  \\\n",
       "count    30.000000   29.000000  30.000000   30.000000  3.000000e+01   \n",
       "mean   1214.400000  111.642814  32.823333  406.123333  5.773503e-02   \n",
       "std     606.843308   17.247564   6.103288   12.552282  2.117255e-17   \n",
       "min     185.000000   76.710000  22.000000  374.000000  5.773503e-02   \n",
       "25%     842.500000  102.203000  29.125000  400.000000  5.773503e-02   \n",
       "50%    1130.500000  111.470000  32.250000  407.500000  5.773503e-02   \n",
       "75%    1585.000000  122.740000  36.750000  414.750000  5.773503e-02   \n",
       "max    2498.000000  144.194000  45.000000  424.000000  5.773503e-02   \n",
       "\n",
       "        err_Vout         RT     err_RT  rel_err_RT  \n",
       "count  30.000000  30.000000  30.000000   30.000000  \n",
       "mean    0.370198  32.878130   0.248650    0.007578  \n",
       "std     0.010315   6.113477   0.043644    0.000089  \n",
       "min     0.343861  22.036728   0.171953    0.007460  \n",
       "25%     0.365148  29.173623   0.222045    0.007515  \n",
       "50%     0.371316  32.303840   0.244327    0.007563  \n",
       "75%     0.377288  36.811352   0.276621    0.007611  \n",
       "max     0.384923  45.075125   0.336244    0.007803  "
      ]
     },
     "execution_count": 3,
     "metadata": {},
     "output_type": "execute_result"
    }
   ],
   "source": [
    "# Define helipot resistance error\n",
    "df_co['err_Rv'] = 0.2/np.sqrt(12) \n",
    "df_he['err_Rv'] = 0.2/np.sqrt(12) \n",
    "\n",
    "# Define Vout measurement error\n",
    "df_co['err_Vout'] = (1/np.sqrt(3))*np.sqrt( (0.0015*df_co['Vout'])**2 + 0.2**2 )\n",
    "df_he['err_Vout'] = (1/np.sqrt(3))*np.sqrt( (0.0015*df_he['Vout'])**2 + 0.2**2 )\n",
    "\n",
    "# Convert helipot resistance to Pt100-c resistance \n",
    "# with associated error by propagation and relative error\n",
    "df_co['RT'] = R2/R1 * df_co['Rv']\n",
    "df_co['err_RT'] = np.sqrt( (R2/R1 * df_co['err_Rv'])**2 + (df_co['Rv']/R1 * err_R2)**2 \n",
    "                       + (R2/R1**2 * df_co['Rv'] * err_R1)**2 )\n",
    "df_co['rel_err_RT'] = df_co['err_RT']/df_co['RT'] \n",
    "\n",
    "\n",
    "df_he['RT'] = R2/R1 * df_he['Rv']\n",
    "df_he['err_RT'] = np.sqrt( (R2/R1 * df_he['err_Rv'])**2 + (df_he['Rv']/R1 * err_R2)**2 \n",
    "                       + (R2/R1**2 * df_he['Rv'] * err_R1)**2 )\n",
    "df_he['rel_err_RT'] = df_he['err_RT']/df_he['RT'] \n",
    "\n",
    "\n",
    "df_he.describe()"
   ]
  },
  {
   "cell_type": "code",
   "execution_count": 4,
   "metadata": {
    "ExecuteTime": {
     "end_time": "2020-12-11T15:34:07.266722Z",
     "start_time": "2020-12-11T15:34:07.110586Z"
    }
   },
   "outputs": [
    {
     "data": {
      "text/html": [
       "<div>\n",
       "<style scoped>\n",
       "    .dataframe tbody tr th:only-of-type {\n",
       "        vertical-align: middle;\n",
       "    }\n",
       "\n",
       "    .dataframe tbody tr th {\n",
       "        vertical-align: top;\n",
       "    }\n",
       "\n",
       "    .dataframe thead th {\n",
       "        text-align: right;\n",
       "    }\n",
       "</style>\n",
       "<table border=\"1\" class=\"dataframe\">\n",
       "  <thead>\n",
       "    <tr style=\"text-align: right;\">\n",
       "      <th></th>\n",
       "      <th>T</th>\n",
       "      <th>R/R0</th>\n",
       "      <th>rel_error</th>\n",
       "      <th>R</th>\n",
       "      <th>Delta_R</th>\n",
       "      <th>Delta_T</th>\n",
       "      <th>rel_err_T</th>\n",
       "    </tr>\n",
       "  </thead>\n",
       "  <tbody>\n",
       "    <tr>\n",
       "      <th>count</th>\n",
       "      <td>1055.000000</td>\n",
       "      <td>1055.000000</td>\n",
       "      <td>1045.000000</td>\n",
       "      <td>1055.000000</td>\n",
       "      <td>1055.000000</td>\n",
       "      <td>1045.000000</td>\n",
       "      <td>1045.000000</td>\n",
       "    </tr>\n",
       "    <tr>\n",
       "      <th>mean</th>\n",
       "      <td>80.679763</td>\n",
       "      <td>0.213108</td>\n",
       "      <td>0.003416</td>\n",
       "      <td>21.310827</td>\n",
       "      <td>0.160618</td>\n",
       "      <td>0.380184</td>\n",
       "      <td>0.003907</td>\n",
       "    </tr>\n",
       "    <tr>\n",
       "      <th>std</th>\n",
       "      <td>62.404756</td>\n",
       "      <td>0.251305</td>\n",
       "      <td>0.001247</td>\n",
       "      <td>25.130538</td>\n",
       "      <td>0.189407</td>\n",
       "      <td>0.422445</td>\n",
       "      <td>0.001363</td>\n",
       "    </tr>\n",
       "    <tr>\n",
       "      <th>min</th>\n",
       "      <td>13.000000</td>\n",
       "      <td>0.001230</td>\n",
       "      <td>0.000203</td>\n",
       "      <td>0.123000</td>\n",
       "      <td>0.000927</td>\n",
       "      <td>0.041064</td>\n",
       "      <td>0.002166</td>\n",
       "    </tr>\n",
       "    <tr>\n",
       "      <th>25%</th>\n",
       "      <td>39.350000</td>\n",
       "      <td>0.039805</td>\n",
       "      <td>0.002889</td>\n",
       "      <td>3.980500</td>\n",
       "      <td>0.030001</td>\n",
       "      <td>0.101953</td>\n",
       "      <td>0.002702</td>\n",
       "    </tr>\n",
       "    <tr>\n",
       "      <th>50%</th>\n",
       "      <td>65.700000</td>\n",
       "      <td>0.138250</td>\n",
       "      <td>0.004065</td>\n",
       "      <td>13.825000</td>\n",
       "      <td>0.104198</td>\n",
       "      <td>0.244072</td>\n",
       "      <td>0.003743</td>\n",
       "    </tr>\n",
       "    <tr>\n",
       "      <th>75%</th>\n",
       "      <td>92.050000</td>\n",
       "      <td>0.251880</td>\n",
       "      <td>0.004307</td>\n",
       "      <td>25.188000</td>\n",
       "      <td>0.189840</td>\n",
       "      <td>0.431858</td>\n",
       "      <td>0.004730</td>\n",
       "    </tr>\n",
       "    <tr>\n",
       "      <th>max</th>\n",
       "      <td>373.150000</td>\n",
       "      <td>1.385000</td>\n",
       "      <td>0.004342</td>\n",
       "      <td>138.500000</td>\n",
       "      <td>1.043864</td>\n",
       "      <td>1.890375</td>\n",
       "      <td>0.006921</td>\n",
       "    </tr>\n",
       "  </tbody>\n",
       "</table>\n",
       "</div>"
      ],
      "text/plain": [
       "                 T         R/R0    rel_error            R      Delta_R  \\\n",
       "count  1055.000000  1055.000000  1045.000000  1055.000000  1055.000000   \n",
       "mean     80.679763     0.213108     0.003416    21.310827     0.160618   \n",
       "std      62.404756     0.251305     0.001247    25.130538     0.189407   \n",
       "min      13.000000     0.001230     0.000203     0.123000     0.000927   \n",
       "25%      39.350000     0.039805     0.002889     3.980500     0.030001   \n",
       "50%      65.700000     0.138250     0.004065    13.825000     0.104198   \n",
       "75%      92.050000     0.251880     0.004307    25.188000     0.189840   \n",
       "max     373.150000     1.385000     0.004342   138.500000     1.043864   \n",
       "\n",
       "           Delta_T    rel_err_T  \n",
       "count  1045.000000  1045.000000  \n",
       "mean      0.380184     0.003907  \n",
       "std       0.422445     0.001363  \n",
       "min       0.041064     0.002166  \n",
       "25%       0.101953     0.002702  \n",
       "50%       0.244072     0.003743  \n",
       "75%       0.431858     0.004730  \n",
       "max       1.890375     0.006921  "
      ]
     },
     "execution_count": 4,
     "metadata": {},
     "output_type": "execute_result"
    }
   ],
   "source": [
    "# Add columns to CONVERSION DATASET in order to associate errors\n",
    "\n",
    "R0 = 100\n",
    "df_conv['R'] = df_conv['R/R0']*R0\n",
    "df_conv['Delta_R'] = df_co['rel_err_RT'].mean() * df_conv['R'] \n",
    "df_conv['Delta_T'] = df_conv['Delta_R']/(df_conv['rel_error']*R0)\n",
    "\n",
    "df_conv['rel_err_T'] = df_conv['Delta_T']/df_conv['T']\n",
    "\n",
    "df_conv.describe()"
   ]
  },
  {
   "cell_type": "markdown",
   "metadata": {},
   "source": [
    "## Find conversion curve"
   ]
  },
  {
   "cell_type": "code",
   "execution_count": 25,
   "metadata": {
    "ExecuteTime": {
     "end_time": "2020-12-11T15:38:55.106210Z",
     "start_time": "2020-12-11T15:38:53.989424Z"
    }
   },
   "outputs": [
    {
     "name": "stdout",
     "output_type": "stream",
     "text": [
      "------------------------------------------- \n",
      "\n",
      "a:  33.61944053230692 +- 0.11844094924462684\n",
      "b:  2.322727020253368 +- 0.005259472243487998 \n",
      "\n",
      "Chi2:  8.003082421222649\n",
      "Ndf :  357\n",
      "Cov_ab:  -0.0006034334679415242\n",
      "Pearson coefficient:  (0.9999786351656776, 0.0) \n",
      "\n",
      "-------------------------------------------\n"
     ]
    },
    {
     "data": {
      "image/png": "[encoded data removed]",
      "text/plain": [
       "<Figure size 576x432 with 1 Axes>"
      ]
     },
     "metadata": {
      "needs_background": "light"
     },
     "output_type": "display_data"
    },
    {
     "data": {
      "image/png": "[encoded data removed]",
      "text/plain": [
       "<Figure size 576x432 with 1 Axes>"
      ]
     },
     "metadata": {
      "needs_background": "light"
     },
     "output_type": "display_data"
    },
    {
     "name": "stdout",
     "output_type": "stream",
     "text": [
      " FCN=8.00308 FROM MIGRAD    STATUS=CONVERGED      68 CALLS          69 TOTAL\n",
      "                     EDM=4.60921e-07    STRATEGY= 1      ERROR MATRIX ACCURATE \n",
      "  EXT PARAMETER                                   STEP         FIRST   \n",
      "  NO.   NAME      VALUE            ERROR          SIZE      DERIVATIVE \n",
      "   1  p0           3.36194e+01   1.18441e-01   4.30825e-05  -2.85073e-03\n",
      "   2  p1           2.32273e+00   5.25947e-03   1.91312e-06  -2.44042e-01\n"
     ]
    }
   ],
   "source": [
    "# Function for finding conversion curve\n",
    "def find_conversion_curve(data,range_fit=[0,100],par_guess=[0,0]):\n",
    "\n",
    "    \n",
    "    def linear_fit(x,y,errx,erry,par_guess=[0,0]):\n",
    "\n",
    "        \n",
    "        f = ROOT.TF1(\"f\", \"pol1\") # Define linear fit model\n",
    "        \n",
    "        g = ROOT.TGraphErrors(x.size, x.astype(np.double), y.astype(np.double), \n",
    "                              errx.astype(np.double), erry.astype(np.double))\n",
    "        \n",
    "        f.SetParameters(par_guess[0],par_guess[1]) # Set initial parameters\n",
    "        fit = g.Fit('f','S',\"\")                    # Perform fit\n",
    "      \n",
    "        cov_ab = fit.GetCovarianceMatrix()[1,0] # Compute covariance term ab\n",
    "        pcoeff = stats.pearsonr(x, y)           # Compute Pearson coefficient\n",
    "        \n",
    "        \n",
    "        print('-------------------------------------------','\\n')\n",
    "        print('a: ', f.GetParameter(0),'+-',f.GetParError(0))\n",
    "        print('b: ', f.GetParameter(1),'+-',f.GetParError(1),'\\n')\n",
    "        print('Chi2: ', f.GetChisquare())\n",
    "        print('Ndf : ', f.GetNDF()      )\n",
    "        print('Cov_ab: ',cov_ab)\n",
    "        print('Pearson coefficient: ', pcoeff,'\\n')    \n",
    "        print('-------------------------------------------')\n",
    "\n",
    "        x_fit     = np.linspace(x[0], x[-1], 300)\n",
    "        y_fit     = f.GetParameter(0) + f.GetParameter(1)*x_fit\n",
    "        y_fit_res = f.GetParameter(0) + f.GetParameter(1)*x\n",
    "        \n",
    "        intercept = [f.GetParameter(0),f.GetParError(0)]\n",
    "        slope     = [f.GetParameter(1),f.GetParError(1)]\n",
    "\n",
    "        res = (y_fit_res - y)\n",
    "        err_res = erry\n",
    "        \n",
    "        return(x_fit,y_fit,intercept,slope,res,err_res,cov_ab)  \n",
    "\n",
    "    \n",
    "    # Filter data by choosen range \n",
    "    minimum = range_fit[0]\n",
    "    maximum = range_fit[1]\n",
    "    \n",
    "    df = data[data['T']>minimum]\n",
    "    df = df[df['T']<maximum]\n",
    "\n",
    "    x = np.array(df['R'])\n",
    "    y = np.array(df['T'])\n",
    "    errx = np.array(df['Delta_R'])\n",
    "    erry = np.array(df['Delta_T'])\n",
    "\n",
    "    # Perform linear fit\n",
    "    x_fit, y_fit, intercept, slope, res, err_res, cov = linear_fit(x,y,errx,erry,par_guess)\n",
    "      \n",
    "        \n",
    "    # PLOT RESIDUALS\n",
    "    \n",
    "    fig, ax = plt.subplots(1, 1, figsize=(8,6))\n",
    "    ax.errorbar(x,res,yerr=err_res,fmt='o',markerfacecolor=col[8],\n",
    "                    color=col[6],ecolor=col[8],label=r'\\bf{Residuals}',alpha=1,markersize=5)\n",
    "    #ax.set_title(r'\\bf{ }', fontsize=20)\n",
    "    ax.axhline(0,color=col[7],ls='--')\n",
    "    ax.set_xlabel(r'\\bf{Resistance [$\\Omega$]}',fontsize=16)\n",
    "    ax.set_ylabel(r'\\bf{Residuals [K]}',fontsize=16)\n",
    "    ax.grid(color='0.9')\n",
    "    ax.tick_params(axis=\"x\", labelsize=14)\n",
    "    ax.tick_params(axis=\"y\", labelsize=14)\n",
    "    plt.legend(loc='lower left',fontsize=16)\n",
    "    ax.set_xticks(np.arange(15, 60, 5))\n",
    "    ax.set_yticks(np.arange(-2.5, 3, 0.5))\n",
    "    ax.set_ylim(-2.5,2.5)\n",
    "    ax.set_axisbelow(True)\n",
    "    plt.savefig(dir_name+'/Pt100_res.pdf', format='pdf',bbox_inches = \"tight\")\n",
    "    \n",
    "\n",
    "    # PLOT CONVERSION CURVE    \n",
    "    \n",
    "    fig, ax = plt.subplots(1, 1, figsize=(8,6))\n",
    "    \n",
    "    ax.errorbar(df_conv['R'],df_conv['T'],yerr=df_conv['Delta_T'],xerr=df_conv['Delta_R'],fmt='-',markerfacecolor=col[0],\n",
    "                    color=col[0],ecolor=col[0],label=r'\\bf{Calibration data}',alpha=1,markersize=5,zorder=1)\n",
    "    \n",
    "    label_fit = r'\\bf{Linear fit: $T=a+b\\cdot R$}'\n",
    "    \n",
    "    ax.plot(x_fit,y_fit,color=col[8],linewidth=3,label=label_fit,zorder=2)\n",
    "\n",
    "    #ax.set_title(r'\\bf{Pt100 conversion curve}', fontsize=20)\n",
    "    ax.set_xlabel(r'\\bf{Resistance [$\\Omega$]}',fontsize=16)\n",
    "    ax.set_ylabel(r'\\bf{Temperature [K]}',fontsize=16)\n",
    "    ax.grid(color='0.9')\n",
    "    ax.tick_params(axis=\"x\", labelsize=14)\n",
    "    ax.tick_params(axis=\"y\", labelsize=14)\n",
    "    plt.legend(loc='best',fontsize=16)\n",
    "    ax.set_ylim(30,273)\n",
    "    ax.set_xlim(0,100)\n",
    "    ax.set_xticks(np.arange(0, 120, 20))\n",
    "    ax.set_yticks(np.arange(0, 290, 30))\n",
    "    ax.set_axisbelow(True)\n",
    "    \n",
    "    plt.savefig(dir_name+'/Pt100_conversion.pdf', format='pdf',bbox_inches = \"tight\")\n",
    "    \n",
    "    return(intercept, slope)\n",
    "\n",
    "# Define range to fit\n",
    "ymin = 70\n",
    "ymax = 160\n",
    "\n",
    "# Find conversion coefficients\n",
    "conv_intercept, conv_slope = find_conversion_curve(df_conv,[ymin,ymax])\n"
   ]
  },
  {
   "cell_type": "code",
   "execution_count": 6,
   "metadata": {
    "ExecuteTime": {
     "end_time": "2020-12-11T15:34:11.701624Z",
     "start_time": "2020-12-11T15:34:11.539227Z"
    }
   },
   "outputs": [
    {
     "data": {
      "text/html": [
       "<div>\n",
       "<style scoped>\n",
       "    .dataframe tbody tr th:only-of-type {\n",
       "        vertical-align: middle;\n",
       "    }\n",
       "\n",
       "    .dataframe tbody tr th {\n",
       "        vertical-align: top;\n",
       "    }\n",
       "\n",
       "    .dataframe thead th {\n",
       "        text-align: right;\n",
       "    }\n",
       "</style>\n",
       "<table border=\"1\" class=\"dataframe\">\n",
       "  <thead>\n",
       "    <tr style=\"text-align: right;\">\n",
       "      <th></th>\n",
       "      <th>ID</th>\n",
       "      <th>Tcf</th>\n",
       "      <th>Rv</th>\n",
       "      <th>Vout</th>\n",
       "      <th>err_Rv</th>\n",
       "      <th>err_Vout</th>\n",
       "      <th>RT</th>\n",
       "      <th>err_RT</th>\n",
       "      <th>rel_err_RT</th>\n",
       "      <th>Ts</th>\n",
       "      <th>err_Ts</th>\n",
       "    </tr>\n",
       "  </thead>\n",
       "  <tbody>\n",
       "    <tr>\n",
       "      <th>count</th>\n",
       "      <td>46.000000</td>\n",
       "      <td>45.000000</td>\n",
       "      <td>46.000000</td>\n",
       "      <td>46.000000</td>\n",
       "      <td>4.600000e+01</td>\n",
       "      <td>46.000000</td>\n",
       "      <td>46.000000</td>\n",
       "      <td>46.000000</td>\n",
       "      <td>46.000000</td>\n",
       "      <td>46.000000</td>\n",
       "      <td>46.000000</td>\n",
       "    </tr>\n",
       "    <tr>\n",
       "      <th>mean</th>\n",
       "      <td>2545.804348</td>\n",
       "      <td>99.378784</td>\n",
       "      <td>37.293478</td>\n",
       "      <td>380.608696</td>\n",
       "      <td>5.773503e-02</td>\n",
       "      <td>0.349285</td>\n",
       "      <td>37.355738</td>\n",
       "      <td>0.280840</td>\n",
       "      <td>0.007537</td>\n",
       "      <td>120.242010</td>\n",
       "      <td>0.230568</td>\n",
       "    </tr>\n",
       "    <tr>\n",
       "      <th>std</th>\n",
       "      <td>320.247933</td>\n",
       "      <td>27.592784</td>\n",
       "      <td>8.475177</td>\n",
       "      <td>15.309370</td>\n",
       "      <td>2.104671e-17</td>\n",
       "      <td>0.012488</td>\n",
       "      <td>8.489326</td>\n",
       "      <td>0.060956</td>\n",
       "      <td>0.000092</td>\n",
       "      <td>19.685522</td>\n",
       "      <td>0.038069</td>\n",
       "    </tr>\n",
       "    <tr>\n",
       "      <th>min</th>\n",
       "      <td>1877.000000</td>\n",
       "      <td>53.552000</td>\n",
       "      <td>22.000000</td>\n",
       "      <td>342.000000</td>\n",
       "      <td>5.773503e-02</td>\n",
       "      <td>0.317894</td>\n",
       "      <td>22.036728</td>\n",
       "      <td>0.171953</td>\n",
       "      <td>0.007426</td>\n",
       "      <td>84.719435</td>\n",
       "      <td>0.165715</td>\n",
       "    </tr>\n",
       "    <tr>\n",
       "      <th>25%</th>\n",
       "      <td>2343.750000</td>\n",
       "      <td>78.162000</td>\n",
       "      <td>31.125000</td>\n",
       "      <td>373.000000</td>\n",
       "      <td>5.773503e-02</td>\n",
       "      <td>0.343045</td>\n",
       "      <td>31.176962</td>\n",
       "      <td>0.236290</td>\n",
       "      <td>0.007472</td>\n",
       "      <td>105.914319</td>\n",
       "      <td>0.202278</td>\n",
       "    </tr>\n",
       "    <tr>\n",
       "      <th>50%</th>\n",
       "      <td>2578.000000</td>\n",
       "      <td>97.281000</td>\n",
       "      <td>36.750000</td>\n",
       "      <td>382.500000</td>\n",
       "      <td>5.773503e-02</td>\n",
       "      <td>0.350803</td>\n",
       "      <td>36.811352</td>\n",
       "      <td>0.276620</td>\n",
       "      <td>0.007515</td>\n",
       "      <td>118.979659</td>\n",
       "      <td>0.226965</td>\n",
       "    </tr>\n",
       "    <tr>\n",
       "      <th>75%</th>\n",
       "      <td>2765.750000</td>\n",
       "      <td>117.262000</td>\n",
       "      <td>42.750000</td>\n",
       "      <td>392.000000</td>\n",
       "      <td>5.773503e-02</td>\n",
       "      <td>0.358582</td>\n",
       "      <td>42.821369</td>\n",
       "      <td>0.319942</td>\n",
       "      <td>0.007579</td>\n",
       "      <td>132.916021</td>\n",
       "      <td>0.254465</td>\n",
       "    </tr>\n",
       "    <tr>\n",
       "      <th>max</th>\n",
       "      <td>3165.000000</td>\n",
       "      <td>153.750000</td>\n",
       "      <td>54.000000</td>\n",
       "      <td>406.000000</td>\n",
       "      <td>5.773503e-02</td>\n",
       "      <td>0.370082</td>\n",
       "      <td>54.090150</td>\n",
       "      <td>0.401665</td>\n",
       "      <td>0.007803</td>\n",
       "      <td>159.046700</td>\n",
       "      <td>0.308156</td>\n",
       "    </tr>\n",
       "  </tbody>\n",
       "</table>\n",
       "</div>"
      ],
      "text/plain": [
       "                ID         Tcf         Rv        Vout        err_Rv  \\\n",
       "count    46.000000   45.000000  46.000000   46.000000  4.600000e+01   \n",
       "mean   2545.804348   99.378784  37.293478  380.608696  5.773503e-02   \n",
       "std     320.247933   27.592784   8.475177   15.309370  2.104671e-17   \n",
       "min    1877.000000   53.552000  22.000000  342.000000  5.773503e-02   \n",
       "25%    2343.750000   78.162000  31.125000  373.000000  5.773503e-02   \n",
       "50%    2578.000000   97.281000  36.750000  382.500000  5.773503e-02   \n",
       "75%    2765.750000  117.262000  42.750000  392.000000  5.773503e-02   \n",
       "max    3165.000000  153.750000  54.000000  406.000000  5.773503e-02   \n",
       "\n",
       "        err_Vout         RT     err_RT  rel_err_RT          Ts     err_Ts  \n",
       "count  46.000000  46.000000  46.000000   46.000000   46.000000  46.000000  \n",
       "mean    0.349285  37.355738   0.280840    0.007537  120.242010   0.230568  \n",
       "std     0.012488   8.489326   0.060956    0.000092   19.685522   0.038069  \n",
       "min     0.317894  22.036728   0.171953    0.007426   84.719435   0.165715  \n",
       "25%     0.343045  31.176962   0.236290    0.007472  105.914319   0.202278  \n",
       "50%     0.350803  36.811352   0.276620    0.007515  118.979659   0.226965  \n",
       "75%     0.358582  42.821369   0.319942    0.007579  132.916021   0.254465  \n",
       "max     0.370082  54.090150   0.401665    0.007803  159.046700   0.308156  "
      ]
     },
     "execution_count": 6,
     "metadata": {},
     "output_type": "execute_result"
    }
   ],
   "source": [
    "# Convert resistance RT to temperature \n",
    "df_co['Ts'] = conv_slope[0]*df_co['Rv'] + conv_intercept[0]\n",
    "df_he['Ts'] = conv_slope[0]*df_he['Rv'] + conv_intercept[0]\n",
    "\n",
    "df_co['err_Ts'] = np.sqrt( conv_intercept[1]**2 + (df_co['RT']*conv_slope[1])**2 )\n",
    "df_he['err_Ts'] = np.sqrt( conv_intercept[1]**2 + (df_he['RT']*conv_slope[1])**2 )\n",
    "\n",
    "df_co.describe()"
   ]
  },
  {
   "cell_type": "markdown",
   "metadata": {},
   "source": [
    "## Plot drift dataset"
   ]
  },
  {
   "cell_type": "code",
   "execution_count": 7,
   "metadata": {
    "ExecuteTime": {
     "end_time": "2020-12-11T15:34:12.454576Z",
     "start_time": "2020-12-11T15:34:11.704506Z"
    }
   },
   "outputs": [
    {
     "data": {
      "image/png": "[encoded data removed]",
      "text/plain": [
       "<Figure size 576x432 with 1 Axes>"
      ]
     },
     "metadata": {
      "needs_background": "light"
     },
     "output_type": "display_data"
    }
   ],
   "source": [
    "# Plot drift dataset\n",
    "\n",
    "fig, ax = plt.subplots(1, 1, figsize=(8,6))\n",
    "\n",
    "ax.errorbar(df_co['Ts'],df_co['Vout'],yerr=df_co['err_Vout'],xerr=df_co['err_Ts'],fmt='-o',markerfacecolor=col[0],\n",
    "            color=col[2],ecolor=col[0],label=r'\\bf{Cooling process}',alpha=1,markersize=5)\n",
    "ax.errorbar(df_he['Ts'],df_he['Vout'],yerr=df_he['err_Vout'],xerr=df_he['err_Ts'],fmt='-o',markerfacecolor=col[9],\n",
    "            color=col[7],ecolor=col[9],label=r'\\bf{Heating process}',alpha=1,markersize=5)\n",
    "\n",
    "ax.set_title(r'\\bf{Manual drift data}', fontsize=20)\n",
    "ax.set_xlabel(r'\\bf{$T_{s}$ [K]}',fontsize=16)\n",
    "ax.set_ylabel(r'\\bf{$ V_{out}$ [mV]}',fontsize=16)\n",
    "ax.grid(color='0.9')\n",
    "ax.set_ylim(335,435)\n",
    "ax.tick_params(axis=\"x\", labelsize=14)\n",
    "ax.tick_params(axis=\"y\", labelsize=14)\n",
    "plt.legend(loc='lower left',fontsize=16)\n",
    "ax.set_yticks(np.arange(340, 460, 20))\n",
    "ax.set_xticks(np.arange(80, 180, 20))\n",
    "ax.set_axisbelow(True)\n",
    "\n",
    "plt.savefig(dir_name+'/drift_data.pdf', format='pdf',bbox_inches = \"tight\")"
   ]
  },
  {
   "cell_type": "markdown",
   "metadata": {},
   "source": [
    "## Substract background from cooling and heating data"
   ]
  },
  {
   "cell_type": "code",
   "execution_count": 8,
   "metadata": {
    "ExecuteTime": {
     "end_time": "2020-12-11T15:34:12.588367Z",
     "start_time": "2020-12-11T15:34:12.469130Z"
    }
   },
   "outputs": [
    {
     "name": "stdout",
     "output_type": "stream",
     "text": [
      "Minimum: [106.785341670288, 372.0]\n",
      "Minimum: [106.785341670288, 399.0]\n"
     ]
    }
   ],
   "source": [
    "# Find minimum\n",
    "def minimum_Tc(data,minimum,maximum):\n",
    "    \n",
    "    df = data[data['Tcf']>minimum]\n",
    "    df = df[df['Tcf']<maximum]\n",
    "\n",
    "    indx_min = np.argmin(df['Vout'])\n",
    "    Tc_min = [df.iloc[indx_min]['Ts'],df.iloc[indx_min]['Vout']]\n",
    "    \n",
    "    print('Minimum:', Tc_min)\n",
    "    \n",
    "    return(Tc_min)\n",
    "    \n",
    "Tc_min_co = minimum_Tc(df_co,60,120)\n",
    "Tc_min_he = minimum_Tc(df_he,60,120)"
   ]
  },
  {
   "cell_type": "code",
   "execution_count": 9,
   "metadata": {
    "ExecuteTime": {
     "end_time": "2020-12-11T15:34:12.712188Z",
     "start_time": "2020-12-11T15:34:12.595437Z"
    }
   },
   "outputs": [],
   "source": [
    "def linear_fit(x,y,errx,erry,par_guess=[0,0]):\n",
    "\n",
    "        \n",
    "    f = ROOT.TF1(\"f\", \"pol1\") # Define linear fit model\n",
    "        \n",
    "    g = ROOT.TGraphErrors(x.size, x.astype(np.double), y.astype(np.double), \n",
    "                              errx.astype(np.double), erry.astype(np.double))\n",
    "        \n",
    "    f.SetParameters(par_guess[0],par_guess[1]) # Set initial parameters\n",
    "    fit = g.Fit('f','S',\"\")                    # Perform fit\n",
    "      \n",
    "    cov_ab = fit.GetCovarianceMatrix()[1,0] # Compute covariance term ab\n",
    "    pcoeff = stats.pearsonr(x, y)           # Compute Pearson coefficient\n",
    "        \n",
    "        \n",
    "    print('-------------------------------------------','\\n')\n",
    "    print('a: ', f.GetParameter(0),'+-',f.GetParError(0))\n",
    "    print('b: ', f.GetParameter(1),'+-',f.GetParError(1),'\\n')\n",
    "    print('Chi2: ', f.GetChisquare())\n",
    "    print('Ndf : ', f.GetNDF()      )\n",
    "    print('Cov_ab: ',cov_ab)\n",
    "    print('Pearson coefficient: ', pcoeff,'\\n')\n",
    "        \n",
    "    print('-------------------------------------------')\n",
    "\n",
    "    x_fit     = np.linspace(x[0], x[-1], 300)\n",
    "    y_fit     = f.GetParameter(0) + f.GetParameter(1)*x_fit\n",
    "    y_fit_res = f.GetParameter(0) + f.GetParameter(1)*x\n",
    "        \n",
    "    intercept = [f.GetParameter(0),f.GetParError(0)]\n",
    "    slope     = [f.GetParameter(1),f.GetParError(1)]\n",
    "\n",
    "    res = (y_fit_res - y)\n",
    "    err_res = erry\n",
    "        \n",
    "    return(x_fit,y_fit,intercept,slope,res,err_res,cov_ab)  "
   ]
  },
  {
   "cell_type": "code",
   "execution_count": 10,
   "metadata": {
    "ExecuteTime": {
     "end_time": "2020-12-11T15:34:12.829102Z",
     "start_time": "2020-12-11T15:34:12.715410Z"
    }
   },
   "outputs": [],
   "source": [
    "def quadratic_fit(x,y,errx,erry,par_guess=[0,0]):\n",
    "\n",
    "    # Quadratic fit y = a + b x + c x**2\n",
    "        \n",
    "    f = ROOT.TF1(\"f\", \"pol2\") # Define linear fit model\n",
    "        \n",
    "    g = ROOT.TGraphErrors(x.size, x.astype(np.double), y.astype(np.double), \n",
    "                              errx.astype(np.double), erry.astype(np.double))\n",
    "        \n",
    "    f.SetParameters(par_guess[0],par_guess[1],par_guess[2]) # Set initial parameters\n",
    "    fit = g.Fit('f','S',\"\")                    # Perform fit\n",
    "      \n",
    "    cov_ab = fit.GetCovarianceMatrix()[1,0] # Compute covariance term ab\n",
    "    pcoeff = stats.pearsonr(x, y)           # Compute Pearson coefficient\n",
    "        \n",
    "        \n",
    "    print('-------------------------------------------','\\n')\n",
    "    print('a: ', f.GetParameter(0),'+-',f.GetParError(0))\n",
    "    print('b: ', f.GetParameter(1),'+-',f.GetParError(1))\n",
    "    print('c: ', f.GetParameter(2),'+-',f.GetParError(2),'\\n')\n",
    "    print('Chi2: ', f.GetChisquare())\n",
    "    print('Ndf : ', f.GetNDF()      )\n",
    "    print('Cov_ab: ',cov_ab)\n",
    "    print('Pearson coefficient: ', pcoeff,'\\n')\n",
    "    print('-------------------------------------------')\n",
    "\n",
    "    x_fit     = np.linspace(x[0], x[-1], 300)\n",
    "    y_fit     = f.GetParameter(0) + f.GetParameter(1)*x_fit + f.GetParameter(2)*(x_fit**2)\n",
    "    y_fit_res = f.GetParameter(0) + f.GetParameter(1)*x + f.GetParameter(2)*(x**2)\n",
    "        \n",
    "    a = [f.GetParameter(0),f.GetParError(0)]\n",
    "    b = [f.GetParameter(1),f.GetParError(1)]\n",
    "    c = [f.GetParameter(2),f.GetParError(2)]\n",
    "    \n",
    "    res = (y_fit_res - y)\n",
    "    err_res = erry\n",
    "        \n",
    "    return(x_fit,y_fit,a,b,c,res,err_res,cov_ab)  "
   ]
  },
  {
   "cell_type": "code",
   "execution_count": 40,
   "metadata": {
    "ExecuteTime": {
     "end_time": "2020-12-11T16:12:49.239853Z",
     "start_time": "2020-12-11T16:12:48.472858Z"
    }
   },
   "outputs": [
    {
     "name": "stdout",
     "output_type": "stream",
     "text": [
      "------------------------------------------- \n",
      "\n",
      "a:  536.2883852847611 +- 1.7400143490688758\n",
      "b:  -1.546739237852267 +- 0.017860904847730535 \n",
      "\n",
      "Chi2:  30.049316076662006\n",
      "Ndf :  11\n",
      "Cov_ab:  -0.03099558750597044\n",
      "Pearson coefficient:  (-0.9979997521962234, 1.5183022540205344e-14) \n",
      "\n",
      "-------------------------------------------\n"
     ]
    },
    {
     "data": {
      "image/png": "[encoded data removed]",
      "text/plain": [
       "<Figure size 576x432 with 1 Axes>"
      ]
     },
     "metadata": {
      "needs_background": "light"
     },
     "output_type": "display_data"
    },
    {
     "data": {
      "image/png": "[encoded data removed]",
      "text/plain": [
       "<Figure size 576x432 with 1 Axes>"
      ]
     },
     "metadata": {
      "needs_background": "light"
     },
     "output_type": "display_data"
    },
    {
     "name": "stdout",
     "output_type": "stream",
     "text": [
      " FCN=30.0493 FROM MIGRAD    STATUS=CONVERGED     202 CALLS         203 TOTAL\n",
      "                     EDM=1.57933e-10    STRATEGY= 1      ERROR MATRIX ACCURATE \n",
      "  EXT PARAMETER                                   STEP         FIRST   \n",
      "  NO.   NAME      VALUE            ERROR          SIZE      DERIVATIVE \n",
      "   1  p0           5.36288e+02   1.74001e+00   3.45024e-04  -1.15669e-06\n",
      "   2  p1          -1.54674e+00   1.78609e-02   3.54150e-06   8.82637e-04\n"
     ]
    }
   ],
   "source": [
    "def substract_background_co(df,minimum,maximum,par_guess):\n",
    "    \n",
    "    # Filter data for filtering background\n",
    "    data = df[df['Ts']>=minimum]\n",
    "    data = data[data['Ts']<=maximum]\n",
    "\n",
    "    x = np.array(data['Ts'])\n",
    "    y = np.array(data['Vout'])\n",
    "    errx = np.array(data['err_Ts'])\n",
    "    erry = np.array(data['err_Vout'])\n",
    "\n",
    "    # Perform linear fit\n",
    "    x_fit, y_fit, intercept, slope, res, err_res, cov = linear_fit(x,y,errx,erry,par_guess)\n",
    "\n",
    "    # Subtract background to Vout data and compute the corresponding error\n",
    "    df['Vb'] = df['Vout'] - (intercept[0] + slope[0]*df['Ts']) \n",
    "    \n",
    "    df['err_Vb'] = np.sqrt( df['err_Vout']**2 + intercept[1]**2 \n",
    "                            + (df['Ts']*slope[1])**2 + (slope[0]*df['err_Ts'])**2 ) \n",
    "    \n",
    "    \n",
    "    # PLOT RESULTS \n",
    "    \n",
    "    # Plot residuals\n",
    "    fig, ax = plt.subplots(1, 1, figsize=(8,6))\n",
    "    ax.errorbar(x,res,yerr=err_res,fmt='o',markerfacecolor=col[0],\n",
    "                    color=col[2],ecolor=col[0],label=r'\\bf{Residuals}',alpha=1,markersize=5)\n",
    "    ax.axhline(0,color=col[1],ls='--')\n",
    "    ax.set_xlabel(r'\\bf{$T_{s}$ [K]}',fontsize=16)\n",
    "    ax.set_ylabel(r'\\bf{Residuals [mV]}',fontsize=16)\n",
    "    ax.grid(color='0.9')\n",
    "    ax.tick_params(axis=\"x\", labelsize=14)\n",
    "    ax.tick_params(axis=\"y\", labelsize=14)\n",
    "    plt.legend(loc='upper right',fontsize=16)\n",
    "    ax.set_xticks(np.arange(84, 110, 4))\n",
    "    ax.set_axisbelow(True)\n",
    "    ax.set_ylim(-2.1,2.1)\n",
    "    plt.savefig(dir_name+'/drift_background_res_co.pdf', format='pdf',bbox_inches = \"tight\")    \n",
    "    \n",
    "    # Plot linear fit of background\n",
    "    fig, ax = plt.subplots(1, 1, figsize=(8,6))\n",
    "    \n",
    "    ax.errorbar(df['Ts'],df['Vout'],yerr=df['err_Vout'],xerr=df['err_Ts'],fmt='-o',markerfacecolor=col[0],\n",
    "            color=col[2],ecolor=col[0],label=r'\\bf{Cooling data}',alpha=1,markersize=5,zorder=1)\n",
    "\n",
    "    ax.plot(x_fit,y_fit,color=col[9],linewidth=2,label=r'\\bf{Linear Fit}',zorder=2)\n",
    "\n",
    "    ax.scatter(Tc_min_co[0],Tc_min_co[1],color=col[9],ec=col[9],marker='o',s=50,label=r'\\bf{Minimum}',zorder=3)\n",
    "    \n",
    "    ax.set_title(r'\\bf{Fit cooling background}', fontsize=20)\n",
    "    ax.set_xlabel(r'\\bf{$T_{s}$ [K]}',fontsize=16)\n",
    "    ax.set_ylabel(r'\\bf{$ V_{out}$ [mV]}',fontsize=16)\n",
    "    ax.grid(color='0.9')\n",
    "    ax.tick_params(axis=\"x\", labelsize=14)\n",
    "    ax.tick_params(axis=\"y\", labelsize=14)\n",
    "    plt.legend(loc='best',fontsize=16)\n",
    "    ax.set_xticks(np.arange(80, 180, 10))\n",
    "    ax.set_yticks(np.arange(340, 440, 20))\n",
    "    ax.set_axisbelow(True)\n",
    "    \n",
    "substract_background_co(df_co,80,106.8,[100,-2])"
   ]
  },
  {
   "cell_type": "code",
   "execution_count": 33,
   "metadata": {
    "ExecuteTime": {
     "end_time": "2020-12-11T16:11:24.503882Z",
     "start_time": "2020-12-11T16:11:23.882528Z"
    }
   },
   "outputs": [
    {
     "name": "stdout",
     "output_type": "stream",
     "text": [
      "------------------------------------------- \n",
      "\n",
      "a:  575.8773678899068 +- 5.372943619301641\n",
      "b:  -1.654713185091013 +- 0.05252253045248287 \n",
      "\n",
      "Chi2:  1.9667451608692006\n",
      "Ndf :  6\n",
      "Cov_ab:  -0.28205251692169403\n",
      "Pearson coefficient:  (-0.9990195613194305, 2.35440903152199e-09) \n",
      "\n",
      "-------------------------------------------\n"
     ]
    },
    {
     "data": {
      "image/png": "[encoded data removed]",
      "text/plain": [
       "<Figure size 576x432 with 1 Axes>"
      ]
     },
     "metadata": {
      "needs_background": "light"
     },
     "output_type": "display_data"
    },
    {
     "data": {
      "image/png": "[encoded data removed]",
      "text/plain": [
       "<Figure size 576x432 with 1 Axes>"
      ]
     },
     "metadata": {
      "needs_background": "light"
     },
     "output_type": "display_data"
    },
    {
     "name": "stdout",
     "output_type": "stream",
     "text": [
      " FCN=1.96675 FROM MIGRAD    STATUS=CONVERGED     174 CALLS         175 TOTAL\n",
      "                     EDM=2.66797e-09    STRATEGY= 1      ERROR MATRIX ACCURATE \n",
      "  EXT PARAMETER                                   STEP         FIRST   \n",
      "  NO.   NAME      VALUE            ERROR          SIZE      DERIVATIVE \n",
      "   1  p0           5.75877e+02   5.37294e+00   2.74600e-04   2.81720e-04\n",
      "   2  p1          -1.65471e+00   5.25225e-02   1.43080e-06   2.98352e-02\n"
     ]
    }
   ],
   "source": [
    "def substract_background_he(df,minimum,maximum,par_guess):\n",
    "    \n",
    "    # Filter data for filtering background\n",
    "    data = df[df['Ts']>=minimum]\n",
    "    data = data[data['Ts']<=maximum]\n",
    "\n",
    "    x = np.array(data['Ts'])\n",
    "    y = np.array(data['Vout'])\n",
    "    errx = np.array(data['err_Ts'])\n",
    "    erry = np.array(data['err_Vout'])\n",
    "\n",
    "    # Perform linear fit\n",
    "    x_fit, y_fit, a, b, res, err_res, cov = linear_fit(x,y,errx,erry,par_guess)\n",
    "\n",
    "    # Subtract background to Vout data and compute the corresponding error\n",
    "    df['Vb'] = df['Vout'] - (a[0] + b[0]*df['Ts']) # + c[0]*(df['Ts']**2))\n",
    "    \n",
    "    df['err_Vb'] = np.sqrt( df['err_Vout']**2 + a[1]**2 \n",
    "                            + (df['Ts']*b[1])**2 + (b[0]*df['err_Ts'])**2 )/2\n",
    "    \n",
    "    \n",
    "    # PLOT RESULTS\n",
    "    \n",
    "    \n",
    "    # Plot residuals\n",
    "    fig, ax = plt.subplots(1, 1, figsize=(8,6))\n",
    "    ax.errorbar(x,res,yerr=err_res,fmt='o',markerfacecolor=col[9],\n",
    "                    color=col[7],ecolor=col[9],label=r'\\bf{Residuals}',alpha=1,markersize=5)\n",
    "    ax.axhline(0,color=col[8],ls='--')\n",
    "    ax.set_xlabel(r'\\bf{$T_{s}$ [K]}',fontsize=16)\n",
    "    ax.set_ylabel(r'\\bf{Residuals [mV]}',fontsize=16)\n",
    "    ax.grid(color='0.9')\n",
    "    ax.tick_params(axis=\"x\", labelsize=14)\n",
    "    ax.tick_params(axis=\"y\", labelsize=14)\n",
    "    plt.legend(loc='upper right',fontsize=16)\n",
    "    #ax.set_xticks(np.arange(96, 110, 2))\n",
    "    ax.set_ylim(-0.9,0.9)\n",
    "    ax.set_axisbelow(True)\n",
    "    plt.savefig(dir_name+'/drift_background_res_he.pdf', format='pdf',bbox_inches = \"tight\")\n",
    "    \n",
    "    # Plot linear fit of background\n",
    "    fig, ax = plt.subplots(1, 1, figsize=(8,6))\n",
    "    \n",
    "    ax.errorbar(df['Ts'],df['Vout'],yerr=df['err_Vout'],xerr=df['err_Ts'],fmt='-o',markerfacecolor=col[9],\n",
    "            color=col[7],ecolor=col[9],label=r'\\bf{Heating data}',alpha=1,markersize=5,zorder=1)\n",
    "\n",
    "    ax.plot(x_fit,y_fit,color=col[0],linewidth=2,label=r'\\bf{Linear Fit}',zorder=2)\n",
    "\n",
    "    ax.scatter(Tc_min_he[0],Tc_min_he[1],color=col[0],ec=col[0],marker='o',s=50,zorder=3,label=r'\\bf{Minimum}')\n",
    "    \n",
    "    ax.set_title(r'\\bf{Fit heating background}', fontsize=20)\n",
    "    ax.set_xlabel(r'\\bf{$T_{s}$ [K]}',fontsize=16)\n",
    "    ax.set_ylabel(r'\\bf{$ V_{out}$ [mV]}',fontsize=16)\n",
    "    ax.grid(color='0.9')\n",
    "    ax.tick_params(axis=\"x\", labelsize=14)\n",
    "    ax.tick_params(axis=\"y\", labelsize=14)\n",
    "    plt.legend(loc='best',fontsize=16)\n",
    "    ax.set_xticks(np.arange(80, 150, 10))\n",
    "    ax.set_yticks(np.arange(360, 460, 20))\n",
    "    ax.set_axisbelow(True)\n",
    "    \n",
    "#substract_background_he(df_he,96,106.8,[100,-0.5,-1]) #98\n",
    "substract_background_he(df_he,96,106.8,[100,-2]) #98"
   ]
  },
  {
   "cell_type": "markdown",
   "metadata": {},
   "source": [
    "## Plot data without background"
   ]
  },
  {
   "cell_type": "code",
   "execution_count": 13,
   "metadata": {
    "ExecuteTime": {
     "end_time": "2020-12-11T15:34:14.507777Z",
     "start_time": "2020-12-11T15:34:14.003788Z"
    }
   },
   "outputs": [
    {
     "data": {
      "image/png": "[encoded data removed]",
      "text/plain": [
       "<Figure size 576x432 with 1 Axes>"
      ]
     },
     "metadata": {
      "needs_background": "light"
     },
     "output_type": "display_data"
    }
   ],
   "source": [
    "def plot_co(df):    \n",
    "    \n",
    "    # PLOT RESULTS\n",
    "    \n",
    "    fig, ax = plt.subplots(1, 1, figsize=(8,6))\n",
    "    \n",
    "    ax.errorbar(df['Ts'],df['Vb'],yerr=df['err_Vb'],xerr=df['err_Ts'],fmt='-o',markerfacecolor=col[0],\n",
    "            color=col[2],ecolor=col[0],label=r'\\bf{Cooling data}',alpha=1,markersize=5,zorder=1)\n",
    "    \n",
    "    ax.set_title(r'\\bf{Fit cooling background}', fontsize=20)\n",
    "    ax.set_xlabel(r'\\bf{$T_{s}$ [K]}',fontsize=16)\n",
    "    ax.set_ylabel(r'\\bf{$\\Delta V_{out}$ [mV]}',fontsize=16)\n",
    "    ax.grid(color='0.9')\n",
    "    ax.tick_params(axis=\"x\", labelsize=14)\n",
    "    ax.tick_params(axis=\"y\", labelsize=14)\n",
    "    plt.legend(loc='best',fontsize=16)\n",
    "    #ax.set_xticks(np.arange(80, 180, 10))\n",
    "    #ax.set_yticks(np.arange(340, 440, 20))\n",
    "    ax.set_axisbelow(True)\n",
    "    \n",
    "plot_co(df_co)"
   ]
  },
  {
   "cell_type": "code",
   "execution_count": 14,
   "metadata": {
    "ExecuteTime": {
     "end_time": "2020-12-11T15:34:14.858719Z",
     "start_time": "2020-12-11T15:34:14.528306Z"
    }
   },
   "outputs": [
    {
     "data": {
      "image/png": "[encoded data removed]",
      "text/plain": [
       "<Figure size 576x432 with 1 Axes>"
      ]
     },
     "metadata": {
      "needs_background": "light"
     },
     "output_type": "display_data"
    }
   ],
   "source": [
    "def plot_he(df):\n",
    "        \n",
    "    # PLOT RESULTS\n",
    "    \n",
    "    fig, ax = plt.subplots(1, 1, figsize=(8,6))\n",
    "    \n",
    "    ax.errorbar(df['Ts'],df['Vb'],yerr=df['err_Vb'],xerr=df['err_Ts'],fmt='-o',markerfacecolor=col[9],\n",
    "            color=col[7],ecolor=col[9],label=r'\\bf{Heating data}',alpha=1,markersize=5,zorder=1)\n",
    "    \n",
    "    ax.set_title(r'\\bf{Fit heating background}', fontsize=20)\n",
    "    ax.set_xlabel(r'\\bf{$T_{s}$ [K]}',fontsize=16)\n",
    "    ax.set_ylabel(r'\\bf{$ \\Delta V_{out}$ [mV]}',fontsize=16)\n",
    "    ax.grid(color='0.9')\n",
    "    ax.tick_params(axis=\"x\", labelsize=14)\n",
    "    ax.tick_params(axis=\"y\", labelsize=14)\n",
    "    plt.legend(loc='lower left',fontsize=16)\n",
    "    #ax.set_xticks(np.arange(80, 150, 10))\n",
    "    #ax.set_yticks(np.arange(360, 460, 20))\n",
    "    ax.set_axisbelow(True)\n",
    "    \n",
    "plot_he(df_he)"
   ]
  },
  {
   "cell_type": "markdown",
   "metadata": {},
   "source": [
    "## Convert from DeltaVout to Rsc"
   ]
  },
  {
   "cell_type": "code",
   "execution_count": 15,
   "metadata": {
    "ExecuteTime": {
     "end_time": "2020-12-11T15:34:15.069769Z",
     "start_time": "2020-12-11T15:34:14.872378Z"
    }
   },
   "outputs": [
    {
     "name": "stdout",
     "output_type": "stream",
     "text": [
      "R0: 995 +- 5.170171692829295  Ohm\n",
      "V0: 6 +- 0.005322906474223773  V\n",
      "I: 0.006030150753768844 +- 3.1786981725562934e-05  V/Ohm\n",
      "RG: 98.5 +- 0.5118223161736243  Ohm\n",
      "G: 508.61421319796955 +- 2.637647536260271\n"
     ]
    }
   ],
   "source": [
    "# Compute R0 and V0 errors\n",
    "\n",
    "R0 = 995 # K Ohm\n",
    "err_R0 = 1/np.sqrt(3)*np.sqrt( (0.009*R0)**2 + 0.001**2 )\n",
    "print('R0:', R0,'+-',err_R0,' Ohm')\n",
    "\n",
    "V0 = 6\n",
    "err_V0 = (1/np.sqrt(3))*np.sqrt( (0.0015*V0)**2 + 0.002**2 )\n",
    "print('V0:', V0,'+-',err_V0,' V')\n",
    "\n",
    "I = V0/R0\n",
    "err_I = np.sqrt( (1/R0)**2 * err_V0**2 + (V0/R0**2)**2 * err_R0**2 )\n",
    "print('I:', I,'+-',err_I, ' V/Ohm')\n",
    "\n",
    "RG = 98.5 # Ohm\n",
    "err_RG = 1/np.sqrt(3)*np.sqrt( (0.009*RG)**2 + 0.002**2 )\n",
    "print('RG:', RG,'+-',err_RG,' Ohm')\n",
    "\n",
    "G = 1 + 50*10**3/RG\n",
    "err_G = np.sqrt( (50*10**3/RG**2)**2 * err_RG**2 )\n",
    "print('G:', G,'+-',err_G)\n"
   ]
  },
  {
   "cell_type": "code",
   "execution_count": 16,
   "metadata": {
    "ExecuteTime": {
     "end_time": "2020-12-11T15:34:15.230113Z",
     "start_time": "2020-12-11T15:34:15.081175Z"
    },
    "scrolled": false
   },
   "outputs": [
    {
     "data": {
      "text/html": [
       "<div>\n",
       "<style scoped>\n",
       "    .dataframe tbody tr th:only-of-type {\n",
       "        vertical-align: middle;\n",
       "    }\n",
       "\n",
       "    .dataframe tbody tr th {\n",
       "        vertical-align: top;\n",
       "    }\n",
       "\n",
       "    .dataframe thead th {\n",
       "        text-align: right;\n",
       "    }\n",
       "</style>\n",
       "<table border=\"1\" class=\"dataframe\">\n",
       "  <thead>\n",
       "    <tr style=\"text-align: right;\">\n",
       "      <th></th>\n",
       "      <th>ID</th>\n",
       "      <th>Tcf</th>\n",
       "      <th>Rv</th>\n",
       "      <th>Vout</th>\n",
       "      <th>err_Rv</th>\n",
       "      <th>err_Vout</th>\n",
       "      <th>RT</th>\n",
       "      <th>err_RT</th>\n",
       "      <th>rel_err_RT</th>\n",
       "      <th>Ts</th>\n",
       "      <th>err_Ts</th>\n",
       "      <th>Vb</th>\n",
       "      <th>err_Vb</th>\n",
       "      <th>Rsc</th>\n",
       "      <th>err_Rsc</th>\n",
       "    </tr>\n",
       "  </thead>\n",
       "  <tbody>\n",
       "    <tr>\n",
       "      <th>0</th>\n",
       "      <td>1877</td>\n",
       "      <td>153.750</td>\n",
       "      <td>54.0</td>\n",
       "      <td>342</td>\n",
       "      <td>0.057735</td>\n",
       "      <td>0.317894</td>\n",
       "      <td>54.090150</td>\n",
       "      <td>0.401665</td>\n",
       "      <td>0.007426</td>\n",
       "      <td>159.046700</td>\n",
       "      <td>0.308156</td>\n",
       "      <td>51.715386</td>\n",
       "      <td>3.380173</td>\n",
       "      <td>17.152442</td>\n",
       "      <td>1.109134</td>\n",
       "    </tr>\n",
       "    <tr>\n",
       "      <th>1</th>\n",
       "      <td>1929</td>\n",
       "      <td>150.854</td>\n",
       "      <td>53.0</td>\n",
       "      <td>345</td>\n",
       "      <td>0.057735</td>\n",
       "      <td>0.320316</td>\n",
       "      <td>53.088481</td>\n",
       "      <td>0.394382</td>\n",
       "      <td>0.007429</td>\n",
       "      <td>156.723973</td>\n",
       "      <td>0.303300</td>\n",
       "      <td>51.122733</td>\n",
       "      <td>3.344552</td>\n",
       "      <td>16.952527</td>\n",
       "      <td>1.097433</td>\n",
       "    </tr>\n",
       "    <tr>\n",
       "      <th>2</th>\n",
       "      <td>1977</td>\n",
       "      <td>147.958</td>\n",
       "      <td>52.0</td>\n",
       "      <td>350</td>\n",
       "      <td>0.057735</td>\n",
       "      <td>0.324358</td>\n",
       "      <td>52.086811</td>\n",
       "      <td>0.387103</td>\n",
       "      <td>0.007432</td>\n",
       "      <td>154.401246</td>\n",
       "      <td>0.298457</td>\n",
       "      <td>52.530080</td>\n",
       "      <td>3.309249</td>\n",
       "      <td>17.427384</td>\n",
       "      <td>1.086386</td>\n",
       "    </tr>\n",
       "    <tr>\n",
       "      <th>3</th>\n",
       "      <td>2027</td>\n",
       "      <td>144.483</td>\n",
       "      <td>51.0</td>\n",
       "      <td>353</td>\n",
       "      <td>0.057735</td>\n",
       "      <td>0.326788</td>\n",
       "      <td>51.085142</td>\n",
       "      <td>0.379826</td>\n",
       "      <td>0.007435</td>\n",
       "      <td>152.078519</td>\n",
       "      <td>0.293628</td>\n",
       "      <td>51.937427</td>\n",
       "      <td>3.273954</td>\n",
       "      <td>17.227361</td>\n",
       "      <td>1.074790</td>\n",
       "    </tr>\n",
       "    <tr>\n",
       "      <th>4</th>\n",
       "      <td>2088</td>\n",
       "      <td>139.850</td>\n",
       "      <td>50.0</td>\n",
       "      <td>356</td>\n",
       "      <td>0.057735</td>\n",
       "      <td>0.329219</td>\n",
       "      <td>50.083472</td>\n",
       "      <td>0.372553</td>\n",
       "      <td>0.007439</td>\n",
       "      <td>149.755792</td>\n",
       "      <td>0.288816</td>\n",
       "      <td>51.344774</td>\n",
       "      <td>3.238829</td>\n",
       "      <td>17.027417</td>\n",
       "      <td>1.063249</td>\n",
       "    </tr>\n",
       "  </tbody>\n",
       "</table>\n",
       "</div>"
      ],
      "text/plain": [
       "     ID      Tcf    Rv  Vout    err_Rv  err_Vout         RT    err_RT  \\\n",
       "0  1877  153.750  54.0   342  0.057735  0.317894  54.090150  0.401665   \n",
       "1  1929  150.854  53.0   345  0.057735  0.320316  53.088481  0.394382   \n",
       "2  1977  147.958  52.0   350  0.057735  0.324358  52.086811  0.387103   \n",
       "3  2027  144.483  51.0   353  0.057735  0.326788  51.085142  0.379826   \n",
       "4  2088  139.850  50.0   356  0.057735  0.329219  50.083472  0.372553   \n",
       "\n",
       "   rel_err_RT          Ts    err_Ts         Vb    err_Vb        Rsc   err_Rsc  \n",
       "0    0.007426  159.046700  0.308156  51.715386  3.380173  17.152442  1.109134  \n",
       "1    0.007429  156.723973  0.303300  51.122733  3.344552  16.952527  1.097433  \n",
       "2    0.007432  154.401246  0.298457  52.530080  3.309249  17.427384  1.086386  \n",
       "3    0.007435  152.078519  0.293628  51.937427  3.273954  17.227361  1.074790  \n",
       "4    0.007439  149.755792  0.288816  51.344774  3.238829  17.027417  1.063249  "
      ]
     },
     "execution_count": 16,
     "metadata": {},
     "output_type": "execute_result"
    }
   ],
   "source": [
    "# Convert Vb to Rsc\n",
    "#df_co['Rsc'] = df_co['Vb']/V0 * R0/G\n",
    "\n",
    "#df_co['Vb_V'] = df_co['Vb']*10**(-3)\n",
    "#df_co['err_Vb_V'] = df_co['err_Vb']*10**(-3)\n",
    "#df_he['Vb_V'] = df_he['Vb']*10**(-3)\n",
    "#df_he['err_Vb_V'] = df_he['err_Vb']*10**(-3)\n",
    "\n",
    "df_co['Rsc'] = (R0*df_co['Vb']/(V0*G)) * (1-df_co['Vb']/(V0*G))**(-1)\n",
    "\n",
    "df_co['err_Rsc'] = np. sqrt( (R0/(V0*G))**2 * (df_co['err_Vb']**2)\n",
    "                           + (df_co['Vb']/(V0*G))**2 * err_R0**2\n",
    "                           + (df_co['Vb']*R0/(V0**2 * G))**2 * err_V0**2\n",
    "                           + (df_co['Vb']*R0/(V0 * G**2))**2 * err_G**2 )\n",
    "\n",
    "df_he['Rsc'] = df_he['Vb']/V0 * R0/G\n",
    "df_he['err_Rsc'] = np. sqrt( (R0/(V0*G))**2 * (df_he['err_Vb']**2)\n",
    "                           + (df_he['Vb']/(V0*G))**2 * err_R0**2\n",
    "                           + (df_he['Vb']*R0/(V0**2 * G))**2 * err_V0**2\n",
    "                           + (df_he['Vb']*R0/(V0 * G**2))**2 * err_G**2 )\n",
    "\n",
    "df_co.head()"
   ]
  },
  {
   "cell_type": "markdown",
   "metadata": {},
   "source": [
    "## Find interception of transition with zero "
   ]
  },
  {
   "cell_type": "code",
   "execution_count": 17,
   "metadata": {
    "ExecuteTime": {
     "end_time": "2020-12-11T15:34:15.353333Z",
     "start_time": "2020-12-11T15:34:15.237218Z"
    }
   },
   "outputs": [],
   "source": [
    "# Function for finding interception between two lines\n",
    "def interception(param1,param2,string1='',string2='',cov_param1=0,cov_param2=0):\n",
    "        \n",
    "    # a + b x\n",
    "    a, erra = param1[0]\n",
    "    b, errb = param1[1]\n",
    "    \n",
    "    # c + d x\n",
    "    c, errc = param2[0]\n",
    "    d, errd = param2[1]  \n",
    "    \n",
    "    x = (a-c)/(d-b)\n",
    "    y = a + b * x\n",
    "    \n",
    "    errx = np.sqrt( (1/(d-b) * erra)**2 + ( (a-c)/(d-b)**2 * errb )**2 +\n",
    "                     (-1/(d-b) * errc)**2 + (-(a-c)/(d-b)**2 * errd)**2 -\n",
    "                    2*(a-c)/((d-b)**3) * (cov_param1-cov_param2) )\n",
    " \n",
    "    erry = np.sqrt( erra**2 + (x*errb)**2 + (b*errx)**2 )\n",
    "    \n",
    "    xx = [x,errx]\n",
    "    yy = [y,erry]\n",
    "\n",
    "    #print('Linear fit a+bx: '+string1)\n",
    "    #print('a=',a,'+-',erra)\n",
    "    #print('b=',b,'+-',errb,'\\n')\n",
    "\n",
    "    #print('Linear fit c+dx: '+string2)\n",
    "    #print('c=',c,'+-',errc)\n",
    "    #print('d=',d,'+-',errd,'\\n')\n",
    "    \n",
    "    print('-------------------------------------------','\\n')\n",
    "    print('Interception:')\n",
    "    print('xp=',xx[0],'+-',xx[1])\n",
    "    print('yp=',yy[0],'+-',yy[1],'\\n')\n",
    "    print('-------------------------------------------','\\n')\n",
    "    \n",
    "    return xx, yy\n"
   ]
  },
  {
   "cell_type": "code",
   "execution_count": 22,
   "metadata": {
    "ExecuteTime": {
     "end_time": "2020-12-11T15:36:07.506879Z",
     "start_time": "2020-12-11T15:36:05.552174Z"
    }
   },
   "outputs": [
    {
     "name": "stdout",
     "output_type": "stream",
     "text": [
      "------------------------------------------- \n",
      "\n",
      "a:  -181.4826390306358 +- 16.91932737706667\n",
      "b:  1.7058641871534972 +- 0.1534978539721366 \n",
      "\n",
      "Chi2:  1.62176304554789\n",
      "Ndf :  5\n",
      "Cov_ab:  -2.596503480130028\n",
      "Pearson coefficient:  (0.9933260705485751, 6.963913316096864e-06) \n",
      "\n",
      "-------------------------------------------\n",
      "------------------------------------------- \n",
      "\n",
      "Interception:\n",
      "xp= 106.38750751516048 +- 0.4017894010494321\n",
      "yp= 0.0 +- 0.0 \n",
      "\n",
      "------------------------------------------- \n",
      "\n"
     ]
    },
    {
     "data": {
      "image/png": "[encoded data removed]",
      "text/plain": [
       "<Figure size 576x432 with 1 Axes>"
      ]
     },
     "metadata": {
      "needs_background": "light"
     },
     "output_type": "display_data"
    },
    {
     "data": {
      "image/png": "[encoded data removed]",
      "text/plain": [
       "<Figure size 576x432 with 1 Axes>"
      ]
     },
     "metadata": {
      "needs_background": "light"
     },
     "output_type": "display_data"
    },
    {
     "name": "stdout",
     "output_type": "stream",
     "text": [
      " FCN=1.62176 FROM MIGRAD    STATUS=CONVERGED      63 CALLS          64 TOTAL\n",
      "                     EDM=2.56476e-07    STRATEGY= 1      ERROR MATRIX ACCURATE \n",
      "  EXT PARAMETER                                   STEP         FIRST   \n",
      "  NO.   NAME      VALUE            ERROR          SIZE      DERIVATIVE \n",
      "   1  p0          -1.81483e+02   1.69193e+01   2.81444e-04   5.36814e-04\n",
      "   2  p1           1.70586e+00   1.53498e-01   2.55332e-06   5.46611e-02\n"
     ]
    }
   ],
   "source": [
    "def plot_co(df,minimum,maximum,par_guess): \n",
    "    \n",
    "    def linear_fit(x,y,errx,erry,par_guess=[0,0]):\n",
    "\n",
    "        f = ROOT.TF1(\"f\", \"pol1\") # Define linear fit model\n",
    "\n",
    "        g = ROOT.TGraphErrors(x.size, x.astype(np.double), y.astype(np.double), \n",
    "                                  errx.astype(np.double), erry.astype(np.double))\n",
    "\n",
    "        f.SetParameters(par_guess[0],par_guess[1]) # Set initial parameters\n",
    "        fit = g.Fit('f','S',\"\")                    # Perform fit\n",
    "\n",
    "        cov_ab = fit.GetCovarianceMatrix()[1,0] # Compute covariance term ab\n",
    "        pcoeff = stats.pearsonr(x, y)           # Compute Pearson coefficient\n",
    "\n",
    "\n",
    "        print('-------------------------------------------','\\n')\n",
    "        print('a: ', f.GetParameter(0),'+-',f.GetParError(0))\n",
    "        print('b: ', f.GetParameter(1),'+-',f.GetParError(1),'\\n')\n",
    "        print('Chi2: ', f.GetChisquare())\n",
    "        print('Ndf : ', f.GetNDF()      )\n",
    "        print('Cov_ab: ',cov_ab)\n",
    "        print('Pearson coefficient: ', pcoeff,'\\n')\n",
    "\n",
    "        print('-------------------------------------------')\n",
    "\n",
    "        x_fit     = np.linspace(x[0]-11, x[-1]+12, 300)\n",
    "        y_fit     = f.GetParameter(0) + f.GetParameter(1)*x_fit\n",
    "        y_fit_res = f.GetParameter(0) + f.GetParameter(1)*x\n",
    "\n",
    "        intercept = [f.GetParameter(0),f.GetParError(0)]\n",
    "        slope     = [f.GetParameter(1),f.GetParError(1)]\n",
    "\n",
    "        res = (y_fit_res - y)\n",
    "        err_res = erry\n",
    "\n",
    "        return(x_fit,y_fit,intercept,slope,res,err_res,cov_ab)  \n",
    "    \n",
    "    \n",
    "    # Remove negative resistance from data \n",
    "    df = df[df['Rsc']>0]\n",
    "\n",
    "    # Filter data for filtering transition region\n",
    "    data = df[df['Ts']>=minimum]\n",
    "    data = data[data['Ts']<=maximum]\n",
    " \n",
    "    x = np.array(data['Ts'])\n",
    "    y = np.array(data['Rsc'])\n",
    "    errx = np.array(data['err_Ts'])\n",
    "    erry = np.array(data['err_Rsc'])\n",
    "\n",
    "    # Perform linear fit\n",
    "    x_fit, y_fit, a, b, res, err_res, cov = linear_fit(x,y,errx,erry,par_guess)\n",
    "\n",
    "    # Find interception point between y=0 and transition region fit \n",
    "    xp, yp = interception([[0,0],[0,0]],[a,b],'Intercetta con zero','Transition region fit',0,cov)\n",
    "    \n",
    "        \n",
    "    # PLOT RESULTS\n",
    "\n",
    "    # Plot residuals\n",
    "    fig, ax = plt.subplots(1, 1, figsize=(8,6))\n",
    "    ax.errorbar(x,res,yerr=err_res,fmt='o',markerfacecolor=col[0],\n",
    "                    color=col[2],ecolor=col[0],label=r'\\bf{Residuals}',alpha=1,markersize=5)\n",
    "    ax.axhline(0,color=col[1],ls='--')\n",
    "    ax.set_xlabel(r'\\bf{$T_{s}$ [K]}',fontsize=16)\n",
    "    ax.set_ylabel(r'\\bf{Residuals [m$\\Omega$]}',fontsize=16)\n",
    "    ax.grid(color='0.9')\n",
    "    ax.tick_params(axis=\"x\", labelsize=14)\n",
    "    ax.tick_params(axis=\"y\", labelsize=14)\n",
    "    plt.legend(loc='lower left',fontsize=16)\n",
    "    ax.set_xticks(np.arange(107, 115, 1))\n",
    "    ax.set_axisbelow(True)\n",
    "    plt.savefig(dir_name+'/drift_tc_res_co.pdf', format='pdf',bbox_inches = \"tight\")\n",
    "    \n",
    "    # Plot \n",
    "    fig, ax = plt.subplots(1, 1, figsize=(8,6))\n",
    "    \n",
    "    ax.errorbar(df['Ts'],df['Rsc'],yerr=df['err_Rsc'],xerr=df['err_Ts'],fmt='-o',markerfacecolor=col[0],\n",
    "            color=col[2],ecolor=col[0],label=r'\\bf{Cooling data}',alpha=1,markersize=5,zorder=2)\n",
    "\n",
    "    ax.plot(x_fit,y_fit,color=col[3],linewidth=2,label=r'\\bf{Transition region fit}',zorder=1)\n",
    "    ax.axhline(0,color='black',ls='-',linewidth=2,zorder=1,alpha=0.6,label=r'\\bf{Background level}')\n",
    "    \n",
    "    ax.axvline(xp[0],color=col[0],ls='--',linewidth=1,zorder=1)\n",
    "    plt.text(xp[0]+2,-2,r'$T_{c}=106.4$',color=col[0],fontsize=16)\n",
    "    \n",
    "    ax.set_title(r'\\bf{$T_c$ estimate from manual drift cooling data}', fontsize=20)\n",
    "    ax.set_xlabel(r'\\bf{$T_{s}$ [K]}',fontsize=16)\n",
    "    ax.set_ylabel(r'\\bf{$ R_{sc}$ [m$\\Omega$]}',fontsize=16)\n",
    "    ax.grid(color='0.9')\n",
    "    ax.set_axisbelow(True)\n",
    "    ax.tick_params(axis=\"x\", labelsize=14)\n",
    "    ax.tick_params(axis=\"y\", labelsize=14)\n",
    "    plt.legend(loc='best',fontsize=16)\n",
    "    ax.set_xticks(np.arange(80, 170, 10))\n",
    "    ax.set_yticks(np.arange(0, 25, 5))\n",
    "    ax.set_ylim(-5,20)\n",
    "    plt.savefig(dir_name+'/drift_tc_co.pdf', format='pdf',bbox_inches = \"tight\")\n",
    "    \n",
    "plot_co(df_co,105.7,114,[100,1])"
   ]
  },
  {
   "cell_type": "code",
   "execution_count": 23,
   "metadata": {
    "ExecuteTime": {
     "end_time": "2020-12-11T15:36:14.945730Z",
     "start_time": "2020-12-11T15:36:13.169051Z"
    }
   },
   "outputs": [
    {
     "name": "stdout",
     "output_type": "stream",
     "text": [
      "------------------------------------------- \n",
      "\n",
      "a:  -168.0158292144753 +- 31.812775670065694\n",
      "b:  1.569892820869242 +- 0.28987998899205475 \n",
      "\n",
      "Chi2:  0.5498911293933197\n",
      "Ndf :  4\n",
      "Cov_ab:  -9.220545494079435\n",
      "Pearson coefficient:  (0.9907184989226947, 0.0001288196100590987) \n",
      "\n",
      "-------------------------------------------\n",
      "------------------------------------------- \n",
      "\n",
      "Interception:\n",
      "xp= 107.02375791580839 +- 0.6073969288579872\n",
      "yp= 0.0 +- 0.0 \n",
      "\n",
      "------------------------------------------- \n",
      "\n"
     ]
    },
    {
     "data": {
      "image/png": "[encoded data removed]",
      "text/plain": [
       "<Figure size 576x432 with 1 Axes>"
      ]
     },
     "metadata": {
      "needs_background": "light"
     },
     "output_type": "display_data"
    },
    {
     "data": {
      "image/png": "[encoded data removed]",
      "text/plain": [
       "<Figure size 576x432 with 1 Axes>"
      ]
     },
     "metadata": {
      "needs_background": "light"
     },
     "output_type": "display_data"
    },
    {
     "name": "stdout",
     "output_type": "stream",
     "text": [
      " FCN=0.549891 FROM MIGRAD    STATUS=CONVERGED      57 CALLS          58 TOTAL\n",
      "                     EDM=2.99343e-09    STRATEGY= 1      ERROR MATRIX ACCURATE \n",
      "  EXT PARAMETER                                   STEP         FIRST   \n",
      "  NO.   NAME      VALUE            ERROR          SIZE      DERIVATIVE \n",
      "   1  p0          -1.68016e+02   3.18128e+01   3.29734e-04  -1.32385e-04\n",
      "   2  p1           1.56989e+00   2.89880e-01   3.00456e-06  -1.46256e-02\n"
     ]
    }
   ],
   "source": [
    "def plot_he(df,minimum,maximum,par_guess): \n",
    "    \n",
    "    def linear_fit(x,y,errx,erry,par_guess=[0,0]):\n",
    "\n",
    "        f = ROOT.TF1(\"f\", \"pol1\") # Define linear fit model\n",
    "\n",
    "        g = ROOT.TGraphErrors(x.size, x.astype(np.double), y.astype(np.double), \n",
    "                                  errx.astype(np.double), erry.astype(np.double))\n",
    "\n",
    "        f.SetParameters(par_guess[0],par_guess[1]) # Set initial parameters\n",
    "        fit = g.Fit('f','S',\"\")                    # Perform fit\n",
    "\n",
    "        cov_ab = fit.GetCovarianceMatrix()[1,0] # Compute covariance term ab\n",
    "        pcoeff = stats.pearsonr(x, y)           # Compute Pearson coefficient\n",
    "\n",
    "\n",
    "        print('-------------------------------------------','\\n')\n",
    "        print('a: ', f.GetParameter(0),'+-',f.GetParError(0))\n",
    "        print('b: ', f.GetParameter(1),'+-',f.GetParError(1),'\\n')\n",
    "        print('Chi2: ', f.GetChisquare())\n",
    "        print('Ndf : ', f.GetNDF()      )\n",
    "        print('Cov_ab: ',cov_ab)\n",
    "        print('Pearson coefficient: ', pcoeff,'\\n')\n",
    "        print('-------------------------------------------')\n",
    "\n",
    "        x_fit     = np.linspace(x[0]-10, x[-1]+10, 300)\n",
    "        y_fit     = f.GetParameter(0) + f.GetParameter(1)*x_fit\n",
    "        y_fit_res = f.GetParameter(0) + f.GetParameter(1)*x\n",
    "\n",
    "        intercept = [f.GetParameter(0),f.GetParError(0)]\n",
    "        slope     = [f.GetParameter(1),f.GetParError(1)]\n",
    "\n",
    "        res = (y_fit_res - y)\n",
    "        err_res = erry\n",
    "\n",
    "        return(x_fit,y_fit,intercept,slope,res,err_res,cov_ab)  \n",
    "    \n",
    "    \n",
    "    # Remove negative resistance from data \n",
    "    df = df[df['Rsc']>0]\n",
    "\n",
    "    # Filter data for filtering transition region\n",
    "    data = df[df['Ts']>=minimum]\n",
    "    data = data[data['Ts']<=maximum]\n",
    " \n",
    "    x = np.array(data['Ts'])\n",
    "    y = np.array(data['Rsc'])\n",
    "    errx = np.array(data['err_Ts'])\n",
    "    erry = np.array(data['err_Rsc'])\n",
    "\n",
    "    # Perform linear fit\n",
    "    x_fit, y_fit, a, b, res, err_res, cov = linear_fit(x,y,errx,erry,par_guess)\n",
    "\n",
    "    # Find interception point between y=0 and transition region fit \n",
    "    xp, yp = interception([[0,0],[0,0]],[a,b],'Intercetta con zero','Transition region fit',0,cov)\n",
    "    \n",
    "    \n",
    "    # PLOT RESULTS\n",
    "\n",
    "    # Plot residuals\n",
    "    fig, ax = plt.subplots(1, 1, figsize=(8,6))\n",
    "    ax.errorbar(x,res,yerr=err_res,fmt='o',markerfacecolor=col[9],\n",
    "                    color=col[7],ecolor=col[9],label=r'\\bf{Residuals}',alpha=1,markersize=5)\n",
    "    ax.axhline(0,color=col[8],ls='--')\n",
    "    ax.set_xlabel(r'\\bf{$T_{s}$ [K]}',fontsize=16)\n",
    "    ax.set_ylabel(r'\\bf{Residuals [m$\\Omega$]}',fontsize=16)\n",
    "    ax.grid(color='0.9')\n",
    "    ax.tick_params(axis=\"x\", labelsize=14)\n",
    "    ax.tick_params(axis=\"y\", labelsize=14)\n",
    "    plt.legend(loc='lower left',fontsize=16)\n",
    "    ax.set_xticks(np.arange(107, 114, 1))\n",
    "    ax.set_axisbelow(True)\n",
    "    plt.savefig(dir_name+'/drift_tc_res_he.pdf', format='pdf',bbox_inches = \"tight\")\n",
    "    \n",
    "    # Plot \n",
    "    fig, ax = plt.subplots(1, 1, figsize=(8,6))\n",
    "    \n",
    "    ax.errorbar(df['Ts'],df['Rsc'],yerr=df['err_Rsc'],xerr=df['err_Ts'],fmt='-o',markerfacecolor=col[9],\n",
    "            color=col[7],ecolor=col[9],label=r'\\bf{Heating data}',alpha=1,markersize=5,zorder=2)\n",
    "\n",
    "    ax.plot(x_fit,y_fit,color=col[6],linewidth=2,label=r'\\bf{Transition region fit}',zorder=1)\n",
    "    ax.axhline(0,color='black',ls='-',linewidth=2,zorder=1,alpha=0.6,label=r'\\bf{Background level}')\n",
    " \n",
    "    ax.axvline(xp[0],color=col[9],ls='--',linewidth=1,zorder=1)\n",
    "    plt.text(xp[0]+2,-1.5,r'$T_{c}=107.0$',color=col[9],fontsize=16)\n",
    "    \n",
    "    ax.set_title(r'\\bf{$T_c$ estimate from manual drift heating data}', fontsize=20)\n",
    "    ax.set_xlabel(r'\\bf{$T_{s}$ [K]}',fontsize=16)\n",
    "    ax.set_ylabel(r'\\bf{$ R_{sc}$ [m$\\Omega$]}',fontsize=16)\n",
    "    ax.grid(color='0.9')\n",
    "    ax.set_axisbelow(True)\n",
    "    ax.tick_params(axis=\"x\", labelsize=14)\n",
    "    ax.tick_params(axis=\"y\", labelsize=14)\n",
    "    plt.legend(loc='best',fontsize=16)\n",
    "    ax.set_xticks(np.arange(95, 140, 10))\n",
    "    ax.set_yticks(np.arange(0, 14, 2))\n",
    "    ax.set_ylim(-3,13)\n",
    "    plt.savefig(dir_name+'/drift_tc_he.pdf', format='pdf',bbox_inches = \"tight\")\n",
    "    \n",
    "plot_he(df_he,105.7,113,[100,1])"
   ]
  },
  {
   "cell_type": "markdown",
   "metadata": {},
   "source": [
    "## Others"
   ]
  },
  {
   "cell_type": "code",
   "execution_count": 20,
   "metadata": {
    "ExecuteTime": {
     "end_time": "2020-12-11T15:34:19.093504Z",
     "start_time": "2020-12-11T15:34:18.980181Z"
    }
   },
   "outputs": [
    {
     "name": "stdout",
     "output_type": "stream",
     "text": [
      "Weighted average: 106.58117180564949 +- 0.33510687035984354\n",
      "Compatibility: 0.8736557363734319\n"
     ]
    }
   ],
   "source": [
    "# Wighted average between cooling and heating Tc estimates\n",
    "Tc_co = [106.38750751516048,0.4017894010494321]\n",
    "Tc_he = [107.02375791580839,0.6073969288579872]\n",
    "\n",
    "average = np.average([Tc_co[0], Tc_he[0]], weights=[1/(Tc_co[1]**2), 1/(Tc_he[1]**2)])\n",
    "error_average = np.sqrt( 1/(1/(Tc_co[1]**2)+1/(Tc_he[1]**2)) )\n",
    "\n",
    "compatibility = np.abs(Tc_co[0]-Tc_he[0])/np.sqrt(Tc_co[1]**2+Tc_he[1]**2)\n",
    "\n",
    "print('Weighted average:', average,'+-',error_average)\n",
    "print('Compatibility:', compatibility)"
   ]
  },
  {
   "cell_type": "markdown",
   "metadata": {},
   "source": [
    "## Chi square analysis"
   ]
  },
  {
   "cell_type": "code",
   "execution_count": 44,
   "metadata": {
    "ExecuteTime": {
     "end_time": "2020-12-11T17:10:46.807738Z",
     "start_time": "2020-12-11T17:10:46.695211Z"
    }
   },
   "outputs": [
    {
     "name": "stdout",
     "output_type": "stream",
     "text": [
      "Theory: 36.41502850180731 at 95.0 %\n",
      "Experimental: 262.6 \n",
      "\n",
      "Dependent (reject H0)\n",
      "\n",
      "P-value: 0.0\n",
      "1-P-value: 1.0 \n",
      "\n",
      "Dependent (reject H0)\n"
     ]
    }
   ],
   "source": [
    "from scipy.stats import chi2\n",
    "\n",
    "# interpret test-statistic\n",
    "\n",
    "dof = 24\n",
    "chi = 262.6\n",
    "prob = 0.95\n",
    "\n",
    "critical = chi2.ppf(prob, dof)\n",
    "\n",
    "print('Theory:',critical,'at',prob*100,'%')\n",
    "print('Experimental:',chi,'\\n')\n",
    "\n",
    "\n",
    "if abs(chi) >= critical:\n",
    "    print('Dependent (reject H0)\\n')\n",
    "else:\n",
    "    print('Independent (fail to reject H0)','\\n')\n",
    "\n",
    "p_val = 1 - chi2.cdf(chi, dof)\n",
    "print('P-value:',p_val)\n",
    "print('1-P-value:',1-p_val,'\\n')\n",
    "\n",
    "# interpret p-value\n",
    "alpha = 1.0 - prob\n",
    "if p_val <= alpha:\n",
    "    print('Dependent (reject H0)')\n",
    "else:\n",
    "    print('Independent (fail to reject H0)')\n",
    "    "
   ]
  },
  {
   "cell_type": "code",
   "execution_count": null,
   "metadata": {},
   "outputs": [],
   "source": []
  }
 ],
 "metadata": {
  "kernelspec": {
   "display_name": "Python 3",
   "language": "python",
   "name": "python3"
  },
  "language_info": {
   "codemirror_mode": {
    "name": "ipython",
    "version": 3
   },
   "file_extension": ".py",
   "mimetype": "text/x-python",
   "name": "python",
   "nbconvert_exporter": "python",
   "pygments_lexer": "ipython3",
   "version": "3.8.6"
  },
  "varInspector": {
   "cols": {
    "lenName": 16,
    "lenType": 16,
    "lenVar": 40
   },
   "kernels_config": {
    "python": {
     "delete_cmd_postfix": "",
     "delete_cmd_prefix": "del ",
     "library": "var_list.py",
     "varRefreshCmd": "print(var_dic_list())"
    },
    "r": {
     "delete_cmd_postfix": ") ",
     "delete_cmd_prefix": "rm(",
     "library": "var_list.r",
     "varRefreshCmd": "cat(var_dic_list()) "
    }
   },
   "types_to_exclude": [
    "module",
    "function",
    "builtin_function_or_method",
    "instance",
    "_Feature"
   ],
   "window_display": false
  }
 },
 "nbformat": 4,
 "nbformat_minor": 4
}
