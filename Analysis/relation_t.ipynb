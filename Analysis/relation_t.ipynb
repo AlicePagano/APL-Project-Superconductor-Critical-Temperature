{
 "cells": [
  {
   "cell_type": "code",
   "execution_count": 1,
   "metadata": {
    "ExecuteTime": {
     "end_time": "2020-12-10T08:34:41.801693Z",
     "start_time": "2020-12-10T08:34:38.551679Z"
    }
   },
   "outputs": [
    {
     "name": "stdout",
     "output_type": "stream",
     "text": [
      "Welcome to JupyROOT 6.22/02\n"
     ]
    },
    {
     "name": "stderr",
     "output_type": "stream",
     "text": [
      "<ipython-input-1-cb2c3fd763d5>:16: MatplotlibDeprecationWarning: Support for setting the 'text.latex.preamble' or 'pgf.preamble' rcParam to a list of strings is deprecated since 3.3 and will be removed two minor releases later; set it to a single string instead.\n",
      "  plt.rcParams['text.latex.preamble'] = [r'\\boldmath']\n"
     ]
    }
   ],
   "source": [
    "# Load needed packages\n",
    "import numpy as np\n",
    "import os\n",
    "from datetime import datetime\n",
    "import pandas as pd\n",
    "import matplotlib.pyplot as plt\n",
    "import bokeh.palettes as palette # For palette of colors\n",
    "import math\n",
    "from scipy import stats\n",
    "from matplotlib import rc\n",
    "import ROOT \n",
    "\n",
    "# Latex rendering for plotting\n",
    "plt.rc('text', usetex=True)\n",
    "plt.rc('font', family='serif')\n",
    "plt.rcParams['text.latex.preamble'] = [r'\\boldmath']\n",
    "\n",
    "# Define color palette\n",
    "col = palette.brewer['RdYlBu'][10] #(8)\n",
    "\n",
    "# Convert HTML color code to RGB\n",
    "from PIL import ImageColor\n",
    "ImageColor.getcolor(col[9], \"RGB\")\n",
    "\n",
    "# Define folder to save plots\n",
    "dir_name = './plots_relation'\n",
    "if not os.path.isdir(dir_name):\n",
    "    os.mkdir(dir_name)"
   ]
  },
  {
   "cell_type": "markdown",
   "metadata": {},
   "source": [
    "## Load data"
   ]
  },
  {
   "cell_type": "code",
   "execution_count": 2,
   "metadata": {
    "ExecuteTime": {
     "end_time": "2020-12-10T08:34:41.922717Z",
     "start_time": "2020-12-10T08:34:41.808944Z"
    }
   },
   "outputs": [
    {
     "name": "stdout",
     "output_type": "stream",
     "text": [
      "R1: 11980.0 +- 62.24990602670283\n",
      "R2: 12000.0 +- 62.3538290751525\n"
     ]
    }
   ],
   "source": [
    "# Compute bridge resistance errors\n",
    "R1 = 11.98*10**3 # K Ohm\n",
    "err_R1 = 1/np.sqrt(3)*np.sqrt( (0.009*R1)**2 + 0.001**2 )\n",
    "\n",
    "R2 = 12.00*10**3 # K Ohm\n",
    "err_R2 = 1/np.sqrt(3)*np.sqrt( (0.009*R2)**2 + 0.001**2 )\n",
    "\n",
    "print('R1:', R1,'+-',err_R1)\n",
    "print('R2:', R2,'+-',err_R2)"
   ]
  },
  {
   "cell_type": "code",
   "execution_count": 3,
   "metadata": {
    "ExecuteTime": {
     "end_time": "2020-12-10T08:34:42.098604Z",
     "start_time": "2020-12-10T08:34:41.986148Z"
    }
   },
   "outputs": [],
   "source": [
    "# LOAD DATASET\n",
    "\n",
    "path_co = 'Data/rel_t_co.dat'\n",
    "path_he = 'Data/rel_t_he.dat'\n",
    "col_name = ['Tcf','Rv']\n",
    "\n",
    "df_co = pd.read_csv(path_co, sep=\"\\t\", header=None, names=col_name,skiprows=4)\n",
    "df_he = pd.read_csv(path_he, sep=\"\\t\", header=None, names=col_name,skiprows=4)\n",
    "\n",
    "# Add error to Rv\n",
    "df_co['err_Rv'] = 0.2/np.sqrt(12) \n",
    "df_he['err_Rv'] = 0.2/np.sqrt(12) "
   ]
  },
  {
   "cell_type": "code",
   "execution_count": 4,
   "metadata": {
    "ExecuteTime": {
     "end_time": "2020-12-10T08:34:42.267687Z",
     "start_time": "2020-12-10T08:34:42.101766Z"
    }
   },
   "outputs": [
    {
     "data": {
      "text/html": [
       "<div>\n",
       "<style scoped>\n",
       "    .dataframe tbody tr th:only-of-type {\n",
       "        vertical-align: middle;\n",
       "    }\n",
       "\n",
       "    .dataframe tbody tr th {\n",
       "        vertical-align: top;\n",
       "    }\n",
       "\n",
       "    .dataframe thead th {\n",
       "        text-align: right;\n",
       "    }\n",
       "</style>\n",
       "<table border=\"1\" class=\"dataframe\">\n",
       "  <thead>\n",
       "    <tr style=\"text-align: right;\">\n",
       "      <th></th>\n",
       "      <th>Tcf</th>\n",
       "      <th>Rv</th>\n",
       "      <th>err_Rv</th>\n",
       "      <th>RT</th>\n",
       "      <th>err_RT</th>\n",
       "      <th>Ts</th>\n",
       "      <th>err_Ts</th>\n",
       "    </tr>\n",
       "  </thead>\n",
       "  <tbody>\n",
       "    <tr>\n",
       "      <th>count</th>\n",
       "      <td>82.000000</td>\n",
       "      <td>82.000000</td>\n",
       "      <td>8.200000e+01</td>\n",
       "      <td>82.000000</td>\n",
       "      <td>82.000000</td>\n",
       "      <td>82.000000</td>\n",
       "      <td>82.000000</td>\n",
       "    </tr>\n",
       "    <tr>\n",
       "      <th>mean</th>\n",
       "      <td>147.388016</td>\n",
       "      <td>53.463415</td>\n",
       "      <td>5.773503e-02</td>\n",
       "      <td>53.552669</td>\n",
       "      <td>0.398429</td>\n",
       "      <td>157.800358</td>\n",
       "      <td>0.308537</td>\n",
       "    </tr>\n",
       "    <tr>\n",
       "      <th>std</th>\n",
       "      <td>59.937815</td>\n",
       "      <td>20.233327</td>\n",
       "      <td>6.981595e-18</td>\n",
       "      <td>20.267106</td>\n",
       "      <td>0.147101</td>\n",
       "      <td>46.996496</td>\n",
       "      <td>0.097491</td>\n",
       "    </tr>\n",
       "    <tr>\n",
       "      <th>min</th>\n",
       "      <td>53.552000</td>\n",
       "      <td>22.000000</td>\n",
       "      <td>5.773503e-02</td>\n",
       "      <td>22.036728</td>\n",
       "      <td>0.171953</td>\n",
       "      <td>84.719435</td>\n",
       "      <td>0.165715</td>\n",
       "    </tr>\n",
       "    <tr>\n",
       "      <th>25%</th>\n",
       "      <td>94.094600</td>\n",
       "      <td>36.125000</td>\n",
       "      <td>5.773503e-02</td>\n",
       "      <td>36.185309</td>\n",
       "      <td>0.272123</td>\n",
       "      <td>117.527954</td>\n",
       "      <td>0.224162</td>\n",
       "    </tr>\n",
       "    <tr>\n",
       "      <th>50%</th>\n",
       "      <td>142.166500</td>\n",
       "      <td>50.500000</td>\n",
       "      <td>5.773503e-02</td>\n",
       "      <td>50.584307</td>\n",
       "      <td>0.376189</td>\n",
       "      <td>150.917155</td>\n",
       "      <td>0.291222</td>\n",
       "    </tr>\n",
       "    <tr>\n",
       "      <th>75%</th>\n",
       "      <td>200.952750</td>\n",
       "      <td>70.750000</td>\n",
       "      <td>5.773503e-02</td>\n",
       "      <td>70.868114</td>\n",
       "      <td>0.523974</td>\n",
       "      <td>197.952377</td>\n",
       "      <td>0.391095</td>\n",
       "    </tr>\n",
       "    <tr>\n",
       "      <th>max</th>\n",
       "      <td>251.052000</td>\n",
       "      <td>91.000000</td>\n",
       "      <td>5.773503e-02</td>\n",
       "      <td>91.151920</td>\n",
       "      <td>0.672319</td>\n",
       "      <td>244.987599</td>\n",
       "      <td>0.493825</td>\n",
       "    </tr>\n",
       "  </tbody>\n",
       "</table>\n",
       "</div>"
      ],
      "text/plain": [
       "              Tcf         Rv        err_Rv         RT     err_RT          Ts  \\\n",
       "count   82.000000  82.000000  8.200000e+01  82.000000  82.000000   82.000000   \n",
       "mean   147.388016  53.463415  5.773503e-02  53.552669   0.398429  157.800358   \n",
       "std     59.937815  20.233327  6.981595e-18  20.267106   0.147101   46.996496   \n",
       "min     53.552000  22.000000  5.773503e-02  22.036728   0.171953   84.719435   \n",
       "25%     94.094600  36.125000  5.773503e-02  36.185309   0.272123  117.527954   \n",
       "50%    142.166500  50.500000  5.773503e-02  50.584307   0.376189  150.917155   \n",
       "75%    200.952750  70.750000  5.773503e-02  70.868114   0.523974  197.952377   \n",
       "max    251.052000  91.000000  5.773503e-02  91.151920   0.672319  244.987599   \n",
       "\n",
       "          err_Ts  \n",
       "count  82.000000  \n",
       "mean    0.308537  \n",
       "std     0.097491  \n",
       "min     0.165715  \n",
       "25%     0.224162  \n",
       "50%     0.291222  \n",
       "75%     0.391095  \n",
       "max     0.493825  "
      ]
     },
     "execution_count": 4,
     "metadata": {},
     "output_type": "execute_result"
    }
   ],
   "source": [
    "# Convert Rv to RT and compute relative error\n",
    "df_co['RT'] = R2/R1 * df_co['Rv']\n",
    "df_co['err_RT'] = np.sqrt( (R2/R1 * df_co['err_Rv'])**2 + (df_co['Rv']/R1 * err_R2)**2 \n",
    "                       + (R2/R1**2 * df_co['Rv'] * err_R1)**2 )\n",
    "\n",
    "df_he['RT'] = R2/R1 * df_he['Rv']\n",
    "df_he['err_RT'] = np.sqrt( (R2/R1 * df_he['err_Rv'])**2 + (df_he['Rv']/R1 * err_R2)**2 \n",
    "                       + (R2/R1**2 * df_he['Rv'] * err_R1)**2 )\n",
    "\n",
    "# Conversion curve parameters\n",
    "conv_int = [33.61944053230692,0.11844094924462684]\n",
    "conv_slo = [2.322727020253368,0.005259472243487998]\n",
    "\n",
    "# Convert resistance RT to temperature \n",
    "df_co['Ts'] = conv_slo[0]*df_co['Rv'] + conv_int[0]\n",
    "df_co['err_Ts'] = np.sqrt( conv_int[1]**2 + (df_co['RT']*conv_slo[1])**2 )\n",
    "\n",
    "df_he['Ts'] = conv_slo[0]*df_he['Rv'] + conv_int[0]\n",
    "df_he['err_Ts'] = np.sqrt( conv_int[1]**2 + (df_he['RT']*conv_slo[1])**2 )\n",
    "\n",
    "df_co.describe()"
   ]
  },
  {
   "cell_type": "code",
   "execution_count": 5,
   "metadata": {
    "ExecuteTime": {
     "end_time": "2020-12-10T08:34:43.571879Z",
     "start_time": "2020-12-10T08:34:42.269705Z"
    }
   },
   "outputs": [
    {
     "data": {
      "image/png": "[encoded data removed]",
      "text/plain": [
       "<Figure size 576x432 with 1 Axes>"
      ]
     },
     "metadata": {
      "needs_background": "light"
     },
     "output_type": "display_data"
    }
   ],
   "source": [
    "# Plot drift dataset\n",
    "\n",
    "fig, ax = plt.subplots(1, 1, figsize=(8,6))\n",
    "\n",
    "ax.errorbar(df_co['Tcf'],df_co['Ts'],yerr=df_co['err_Ts'],fmt='-o',markerfacecolor=col[0],\n",
    "                color=col[2],ecolor=col[0],label=r'\\bf{Cooling process}',alpha=1,markersize=5)\n",
    "\n",
    "ax.errorbar(df_he['Tcf'],df_he['Ts'],yerr=df_he['err_Ts'],fmt='-o',markerfacecolor=col[9],\n",
    "            color=col[7],ecolor=col[9],label=r'\\bf{Heating process}',alpha=1,markersize=5)\n",
    "\n",
    "#ax.set_title(r'\\bf{R}', fontsize=20)\n",
    "ax.set_ylabel(r'\\bf{$T_{s}$ [K]}',fontsize=16)\n",
    "ax.set_xlabel(r'\\bf{$ T_{cf}$ [K]}',fontsize=16)\n",
    "ax.grid(color='0.9')\n",
    "#ax.set_ylim(335,435)\n",
    "ax.tick_params(axis=\"x\", labelsize=14)\n",
    "ax.tick_params(axis=\"y\", labelsize=14)\n",
    "plt.legend(loc='best',fontsize=16)\n",
    "#ax.set_yticks(np.arange(340, 460, 20))\n",
    "#ax.set_xticks(np.arange(80, 180, 20))\n",
    "ax.set_axisbelow(True)\n",
    "\n",
    "#plt.savefig(dir_name+'/drift_data.pdf', format='pdf',bbox_inches = \"tight\")"
   ]
  },
  {
   "cell_type": "markdown",
   "metadata": {},
   "source": [
    "## Find linear relation between temperatures"
   ]
  },
  {
   "cell_type": "code",
   "execution_count": 6,
   "metadata": {
    "ExecuteTime": {
     "end_time": "2020-12-10T08:34:43.698593Z",
     "start_time": "2020-12-10T08:34:43.574862Z"
    }
   },
   "outputs": [],
   "source": [
    "def linear_fit(x,y,errx,erry,par_guess=[0,0]):\n",
    "\n",
    "        \n",
    "    f = ROOT.TF1(\"f\", \"pol1\") # Define linear fit model\n",
    "        \n",
    "    g = ROOT.TGraphErrors(x.size, x.astype(np.double), y.astype(np.double), \n",
    "                              errx.astype(np.double), erry.astype(np.double))\n",
    "        \n",
    "    f.SetParameters(par_guess[0],par_guess[1]) # Set initial parameters\n",
    "    fit = g.Fit('f','S',\"\")                    # Perform fit\n",
    "      \n",
    "    cov_ab = fit.GetCovarianceMatrix()[1,0] # Compute covariance term ab\n",
    "    pcoeff = stats.pearsonr(x, y)           # Compute Pearson coefficient\n",
    "        \n",
    "        \n",
    "    print('-------------------------------------------','\\n')\n",
    "    print('a: ', f.GetParameter(0),'+-',f.GetParError(0))\n",
    "    print('b: ', f.GetParameter(1),'+-',f.GetParError(1),'\\n')\n",
    "    print('Chi2: ', f.GetChisquare())\n",
    "    print('Ndf : ', f.GetNDF()      )\n",
    "    print('Cov_ab: ',cov_ab)\n",
    "    print('Pearson coefficient: ', pcoeff,'\\n')\n",
    "        \n",
    "    print('-------------------------------------------')\n",
    "\n",
    "    x_fit     = np.linspace(x[0], x[-1], 300)\n",
    "    y_fit     = f.GetParameter(0) + f.GetParameter(1)*x_fit\n",
    "    y_fit_res = f.GetParameter(0) + f.GetParameter(1)*x\n",
    "        \n",
    "    intercept = [f.GetParameter(0),f.GetParError(0)]\n",
    "    slope     = [f.GetParameter(1),f.GetParError(1)]\n",
    "\n",
    "    res = (y_fit_res - y)\n",
    "    err_res = erry\n",
    "        \n",
    "    return(x_fit,y_fit,intercept,slope,res,err_res,cov_ab)  "
   ]
  },
  {
   "cell_type": "code",
   "execution_count": 7,
   "metadata": {
    "ExecuteTime": {
     "end_time": "2020-12-10T08:34:46.721745Z",
     "start_time": "2020-12-10T08:34:43.702237Z"
    },
    "scrolled": false
   },
   "outputs": [
    {
     "name": "stdout",
     "output_type": "stream",
     "text": [
      "------------------------------------------- \n",
      "\n",
      "a:  48.37689680208885 +- 0.2210260916172359\n",
      "b:  0.7307694356025904 +- 0.0025271275008497606 \n",
      "\n",
      "Chi2:  247.97962185375064\n",
      "Ndf :  28\n",
      "Cov_ab:  -0.0005497801352581232\n",
      "Pearson coefficient:  (0.9985382300038744, 4.935807218547458e-37) \n",
      "\n",
      "-------------------------------------------\n",
      "------------------------------------------- \n",
      "\n",
      "a:  16.59514140379298 +- 0.3092446078586793\n",
      "b:  0.8337561324407118 +- 0.0028491731901534078 \n",
      "\n",
      "Chi2:  262.59856007317603\n",
      "Ndf :  24\n",
      "Cov_ab:  -0.0008736300750854666\n",
      "Pearson coefficient:  (0.9986780514827868, 1.8678015204514305e-32) \n",
      "\n",
      "-------------------------------------------\n"
     ]
    },
    {
     "data": {
      "image/png": "[encoded data removed]",
      "text/plain": [
       "<Figure size 576x432 with 1 Axes>"
      ]
     },
     "metadata": {
      "needs_background": "light"
     },
     "output_type": "display_data"
    },
    {
     "data": {
      "image/png": "[encoded data removed]",
      "text/plain": [
       "<Figure size 576x432 with 1 Axes>"
      ]
     },
     "metadata": {
      "needs_background": "light"
     },
     "output_type": "display_data"
    },
    {
     "data": {
      "image/png": "[encoded data removed]",
      "text/plain": [
       "<Figure size 576x432 with 1 Axes>"
      ]
     },
     "metadata": {
      "needs_background": "light"
     },
     "output_type": "display_data"
    },
    {
     "name": "stdout",
     "output_type": "stream",
     "text": [
      "\n",
      "****************************************\n",
      "Minimizer is Linear / Migrad\n",
      "Chi2                      =       247.98\n",
      "NDf                       =           28\n",
      "p0                        =      48.3769   +/-   0.221026    \n",
      "p1                        =     0.730769   +/-   0.00252713  \n",
      "\n",
      "****************************************\n",
      "Minimizer is Linear / Migrad\n",
      "Chi2                      =      262.599\n",
      "NDf                       =           24\n",
      "p0                        =      16.5951   +/-   0.309245    \n",
      "p1                        =     0.833756   +/-   0.00284917  \n"
     ]
    }
   ],
   "source": [
    "def fit_relation(range1,range2,par_guess):\n",
    "    \n",
    "    # Filter data for filtering background\n",
    "    data = df_co[df_co['Tcf']>=range1[0]]\n",
    "    data = data[data['Tcf']<=range1[1]]\n",
    "\n",
    "    x = np.array(data['Tcf'])\n",
    "    x_co = np.array(data['Tcf'])\n",
    "    y = np.array(data['Ts'])\n",
    "    errx = np.zeros(x.shape[0])\n",
    "    erry = np.array(data['err_Ts'])\n",
    "\n",
    "    # Perform linear fit\n",
    "    x_fit_co, y_fit_co, intercept_co, slope_co, res_co, err_res_co, cov_co = linear_fit(x,y,errx,erry,par_guess)\n",
    " \n",
    "\n",
    "    # Filter data for filtering background\n",
    "    data = df_he[df_he['Tcf']>=range2[0]]\n",
    "    data = data[data['Tcf']<=range2[1]]\n",
    "\n",
    "    x = np.array(data['Tcf'])\n",
    "    x_he = np.array(data['Tcf'])\n",
    "    y = np.array(data['Ts'])\n",
    "    errx = np.zeros(x.shape[0])\n",
    "    erry = np.array(data['err_Ts'])\n",
    "\n",
    "    # Perform linear fit\n",
    "    x_fit_he, y_fit_he, intercept_he, slope_he, res_he, err_res_he, cov_he = linear_fit(x,y,errx,erry,par_guess)\n",
    "    \n",
    "    \n",
    "    # PLOT RESULTS \n",
    "    \n",
    "    # Plot residuals cooling\n",
    "    fig, ax = plt.subplots(1, 1, figsize=(8,6))\n",
    "    ax.errorbar(x_co,res_co,yerr=err_res_co,fmt='o',markerfacecolor=col[0],\n",
    "                    color=col[2],ecolor=col[0],label=r'\\bf{Residuals}',alpha=1,markersize=5)\n",
    "    ax.axhline(0,color=col[1],ls='--')\n",
    "    ax.set_xlabel(r'\\bf{$T_{s}$ [K]}',fontsize=16)\n",
    "    ax.set_ylabel(r'\\bf{Residuals [K]}',fontsize=16)\n",
    "    ax.grid(color='0.9')\n",
    "    ax.tick_params(axis=\"x\", labelsize=14)\n",
    "    ax.tick_params(axis=\"y\", labelsize=14)\n",
    "    plt.legend(loc='lower left',fontsize=16)\n",
    "    ax.set_xticks(np.arange(60, 130, 10))\n",
    "    ax.set_ylim(-2,2)\n",
    "    ax.set_axisbelow(True)\n",
    "    plt.savefig(dir_name+'/relation_res_co.pdf', format='pdf',bbox_inches = \"tight\")\n",
    "    \n",
    "    # Plot residuals heating\n",
    "    fig, ax = plt.subplots(1, 1, figsize=(8,6))\n",
    "    ax.errorbar(x_he,res_he,yerr=err_res_he,fmt='o',markerfacecolor=col[9],\n",
    "                    color=col[7],ecolor=col[9],label=r'\\bf{Residuals}',alpha=1,markersize=5)\n",
    "    ax.axhline(0,color=col[8],ls='--')\n",
    "    ax.set_xlabel(r'\\bf{$T_{s}$ [K]}',fontsize=16)\n",
    "    ax.set_ylabel(r'\\bf{Residuals [K]}',fontsize=16)\n",
    "    ax.grid(color='0.9')\n",
    "    ax.tick_params(axis=\"x\", labelsize=14)\n",
    "    ax.tick_params(axis=\"y\", labelsize=14)\n",
    "    plt.legend(loc='lower left',fontsize=16)\n",
    "    ax.set_ylim(-1.5,1.5)\n",
    "    ax.set_xticks(np.arange(80, 150, 10))\n",
    "    ax.set_axisbelow(True)\n",
    "    plt.savefig(dir_name+'/relation_res_he.pdf', format='pdf',bbox_inches = \"tight\")\n",
    "    \n",
    "    # Plot linear fit\n",
    "    fig, ax = plt.subplots(1, 1, figsize=(8,6))\n",
    "\n",
    "    ax.errorbar(df_co['Tcf'],df_co['Ts'],yerr=df_co['err_Ts'],fmt='-o',markerfacecolor=col[0],\n",
    "                color=col[2],ecolor=col[0],label=r'\\bf{Cooling process}',alpha=1,markersize=5)\n",
    "\n",
    "    ax.errorbar(df_he['Tcf'],df_he['Ts'],yerr=df_he['err_Ts'],fmt='-o',markerfacecolor=col[9],\n",
    "                color=col[7],ecolor=col[9],label=r'\\bf{Heating process}',alpha=1,markersize=5)\n",
    "    \n",
    "    ax.plot(x_fit_co,y_fit_co,color=col[3],linewidth=2.5,label=r'\\bf{Linear fit cooling}',zorder=3)\n",
    "    ax.plot(x_fit_he,y_fit_he,color=col[6],linewidth=2.5,label=r'\\bf{Linear fit heating}',zorder=3)\n",
    "    \n",
    "    #ax.set_title(r'\\bf{Manual drift data}', fontsize=20)\n",
    "    ax.set_ylabel(r'\\bf{$T_{s}$ [K]}',fontsize=16)\n",
    "    ax.set_xlabel(r'\\bf{$ T_{cf}$ [K]}',fontsize=16)\n",
    "    ax.grid(color='0.9')\n",
    "    #ax.set_ylim(335,435)\n",
    "    ax.tick_params(axis=\"x\", labelsize=14)\n",
    "    ax.tick_params(axis=\"y\", labelsize=14)\n",
    "    plt.legend(loc='best',fontsize=16)\n",
    "    #ax.set_yticks(np.arange(340, 460, 20))\n",
    "    #ax.set_xticks(np.arange(80, 180, 20))\n",
    "    ax.set_axisbelow(True)\n",
    "    \n",
    "    plt.savefig(dir_name+'/relation_t.pdf', format='pdf',bbox_inches = \"tight\")\n",
    "    \n",
    "    return(intercept_co, slope_co, intercept_he, slope_he)\n",
    "\n",
    "\n",
    "intercept_co, slope_co, intercept_he, slope_he = fit_relation([60,115],[80,140],[100,2])"
   ]
  },
  {
   "cell_type": "code",
   "execution_count": 8,
   "metadata": {
    "ExecuteTime": {
     "end_time": "2020-12-10T08:34:46.838878Z",
     "start_time": "2020-12-10T08:34:46.728350Z"
    }
   },
   "outputs": [
    {
     "name": "stdout",
     "output_type": "stream",
     "text": [
      "Tc_co arduino  : [80.29556458221417, 1.4673560171590856]\n",
      "Tc_co converted: 107.05444121322485 +- 1.1134868147561814 \n",
      "\n",
      "Tc_he arduino  : [108.52688507915008, 3.1866688452573317]\n",
      "Tc_co converted: 107.08009737322274 +- 2.6926542226065378 \n",
      "\n"
     ]
    }
   ],
   "source": [
    "Tc_co = [80.29556458221417,1.4673560171590856]\n",
    "Tc_he = [108.52688507915008,3.1866688452573317]\n",
    "\n",
    "Tc_co_conv = [intercept_co[0] + slope_co[0] * Tc_co[0],\n",
    "              np.sqrt( intercept_co[1]**2 + (slope_co[0]*Tc_co[1])**2 + (Tc_co[0]*slope_co[1])**2 )]\n",
    "\n",
    "Tc_he_conv = [intercept_he[0] + slope_he[0] * Tc_he[0],\n",
    "              np.sqrt( intercept_he[1]**2 + (slope_he[0]*Tc_he[1])**2 + (Tc_he[0]*slope_he[1])**2 )]\n",
    "              \n",
    "print('Tc_co arduino  :', Tc_co)\n",
    "print('Tc_co converted:', Tc_co_conv[0],'+-',Tc_co_conv[1],'\\n')\n",
    "print('Tc_he arduino  :', Tc_he)\n",
    "print('Tc_he converted:', Tc_he_conv[0],'+-',Tc_he_conv[1],'\\n')"
   ]
  },
  {
   "cell_type": "code",
   "execution_count": 9,
   "metadata": {
    "ExecuteTime": {
     "end_time": "2020-12-10T08:34:46.956413Z",
     "start_time": "2020-12-10T08:34:46.844922Z"
    }
   },
   "outputs": [
    {
     "name": "stdout",
     "output_type": "stream",
     "text": [
      "Weighted average: 107.05818785234786 +- 1.0289770565972876\n",
      "Compatibility: 0.008805047046325494\n"
     ]
    }
   ],
   "source": [
    "# Wighted average between cooling and heating Tc estimates\n",
    "\n",
    "average = np.average([Tc_co_conv[0], Tc_he_conv[0]], weights=[1/(Tc_co_conv[1]**2), 1/(Tc_he_conv[1]**2)])\n",
    "error_average = np.sqrt( 1/(1/(Tc_co_conv[1]**2)+1/(Tc_he_conv[1]**2)) )\n",
    "\n",
    "compatibility = np.abs(Tc_co_conv[0]-Tc_he_conv[0])/np.sqrt(Tc_co_conv[1]**2+Tc_he_conv[1]**2)\n",
    "\n",
    "print('Weighted average:', average,'+-',error_average)\n",
    "print('Compatibility:', compatibility)"
   ]
  },
  {
   "cell_type": "code",
   "execution_count": null,
   "metadata": {},
   "outputs": [],
   "source": []
  },
  {
   "cell_type": "code",
   "execution_count": null,
   "metadata": {},
   "outputs": [],
   "source": []
  }
 ],
 "metadata": {
  "kernelspec": {
   "display_name": "Python 3",
   "language": "python",
   "name": "python3"
  },
  "language_info": {
   "codemirror_mode": {
    "name": "ipython",
    "version": 3
   },
   "file_extension": ".py",
   "mimetype": "text/x-python",
   "name": "python",
   "nbconvert_exporter": "python",
   "pygments_lexer": "ipython3",
   "version": "3.8.6"
  },
  "varInspector": {
   "cols": {
    "lenName": 16,
    "lenType": 16,
    "lenVar": 40
   },
   "kernels_config": {
    "python": {
     "delete_cmd_postfix": "",
     "delete_cmd_prefix": "del ",
     "library": "var_list.py",
     "varRefreshCmd": "print(var_dic_list())"
    },
    "r": {
     "delete_cmd_postfix": ") ",
     "delete_cmd_prefix": "rm(",
     "library": "var_list.r",
     "varRefreshCmd": "cat(var_dic_list()) "
    }
   },
   "types_to_exclude": [
    "module",
    "function",
    "builtin_function_or_method",
    "instance",
    "_Feature"
   ],
   "window_display": false
  }
 },
 "nbformat": 4,
 "nbformat_minor": 4
}
